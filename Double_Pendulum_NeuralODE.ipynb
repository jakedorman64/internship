{
  "nbformat": 4,
  "nbformat_minor": 0,
  "metadata": {
    "colab": {
      "provenance": [],
      "gpuType": "T4",
      "authorship_tag": "ABX9TyMW1druvYiuqXBTjVE+K/Nb",
      "include_colab_link": true
    },
    "kernelspec": {
      "name": "python3",
      "display_name": "Python 3"
    },
    "language_info": {
      "name": "python"
    },
    "accelerator": "GPU"
  },
  "cells": [
    {
      "cell_type": "markdown",
      "metadata": {
        "id": "view-in-github",
        "colab_type": "text"
      },
      "source": [
        "<a href=\"https://colab.research.google.com/github/jakedorman64/internship/blob/main/Double_Pendulum_NeuralODE.ipynb\" target=\"_parent\"><img src=\"https://colab.research.google.com/assets/colab-badge.svg\" alt=\"Open In Colab\"/></a>"
      ]
    },
    {
      "cell_type": "markdown",
      "source": [
        "#Double Pendulum Simulator\n",
        "\n",
        "Solving the Euler Lagrange equations for the double pendulum gives the second order differential equations:\n",
        "\n",
        "$$ \\begin{align} \\ddot{\\theta}_1 & = \\frac{g \\sin{\\theta_2} \\cos{(\\theta_1 - \\theta_2)} - \\sin{(\\theta_1 - \\theta_2)} \\left[ \\dot{\\theta}_1^2 \\cos{(\\theta_1 - \\theta_2)} + \\dot{\\theta}_2^2\\right] - 2 g \\sin{\\theta_1}}{1 + \\sin^2{(\\theta_1 - \\theta_2)}}\n",
        "\\\\\n",
        " \\ddot{\\theta}_2 & = \\frac{2 \\left[ \\dot{\\theta}_1^2 \\sin{(\\theta_1 - \\theta_2)} - g \\sin{\\theta_2} + g \\sin{\\theta_1} \\cos {(\\theta_1 - \\theta_2)} \\right] + \\dot{\\theta}_2^2 \\sin{(\\theta_1 - \\theta_2)} \\cos{(\\theta_1 - \\theta_2)}}{1 + \\sin^2{(\\theta_1 - \\theta_2)}} \\end{align} $$\n",
        "\n",
        "Note that we have set mass and length of both sections to be 1. We need a system of first order differential equations. Thus, we will define $ \\omega = \\dot{\\theta} $ for each section, thus giving us the system of equations:\n",
        "\n",
        "$$ \\begin{align} \\frac{d \\omega_1}{dt} & = \\frac{g \\sin{\\theta_2} \\cos{(\\theta_1 - \\theta_2)} - \\sin{(\\theta_1 - \\theta_2)} \\left[ \\omega_1^2 \\cos{(\\theta_1 - \\theta_2)} + \\omega_2^2\\right] - 2 g \\sin{\\theta_1}}{1 + \\sin^2{(\\theta_1 - \\theta_2)}}\n",
        "\\\\\n",
        " \\frac{d \\omega_2}{dt} & = \\frac{2 \\left[ \\omega_1^2 \\sin{(\\theta_1 - \\theta_2)} - g \\sin{\\theta_2} + g \\sin{\\theta_1} \\cos {(\\theta_1 - \\theta_2)} \\right] + \\omega_2^2 \\sin{(\\theta_1 - \\theta_2)} \\cos{(\\theta_1 - \\theta_2)}}{1 + \\sin^2{(\\theta_1 - \\theta_2)}} \\end{align} $$\n",
        " Plus the simpler equations:\n",
        " $$\\begin{align} \\frac{d \\theta_1}{dt} & = \\omega_1 \\\\ \\frac{d \\theta_2}{dt} & = \\omega_2. \\end{align} $$"
      ],
      "metadata": {
        "id": "uYyB_o-3Pi-q"
      }
    },
    {
      "cell_type": "markdown",
      "source": [
        "#Generate the Data"
      ],
      "metadata": {
        "id": "GnSdOh88tYR6"
      }
    },
    {
      "cell_type": "code",
      "source": [
        "!pip install git+https://github.com/deepmind/dm-haiku\n",
        "!pip install gplearn"
      ],
      "metadata": {
        "id": "Yv4-XZC31vsL",
        "outputId": "76d688a0-2698-4b0a-8b8c-a6620f1d2460",
        "colab": {
          "base_uri": "https://localhost:8080/"
        }
      },
      "execution_count": 1,
      "outputs": [
        {
          "output_type": "stream",
          "name": "stdout",
          "text": [
            "Collecting git+https://github.com/deepmind/dm-haiku\n",
            "  Cloning https://github.com/deepmind/dm-haiku to /tmp/pip-req-build-qqap96_3\n",
            "  Running command git clone --filter=blob:none --quiet https://github.com/deepmind/dm-haiku /tmp/pip-req-build-qqap96_3\n",
            "  Resolved https://github.com/deepmind/dm-haiku to commit 6526bc819af6c7a3105312449fb05987dce5848a\n",
            "  Preparing metadata (setup.py) ... \u001b[?25l\u001b[?25hdone\n",
            "Requirement already satisfied: absl-py>=0.7.1 in /usr/local/lib/python3.10/dist-packages (from dm-haiku==0.0.11.dev0) (1.4.0)\n",
            "Collecting jmp>=0.0.2 (from dm-haiku==0.0.11.dev0)\n",
            "  Downloading jmp-0.0.4-py3-none-any.whl (18 kB)\n",
            "Requirement already satisfied: numpy>=1.18.0 in /usr/local/lib/python3.10/dist-packages (from dm-haiku==0.0.11.dev0) (1.22.4)\n",
            "Requirement already satisfied: tabulate>=0.8.9 in /usr/local/lib/python3.10/dist-packages (from dm-haiku==0.0.11.dev0) (0.9.0)\n",
            "Building wheels for collected packages: dm-haiku\n",
            "  Building wheel for dm-haiku (setup.py) ... \u001b[?25l\u001b[?25hdone\n",
            "  Created wheel for dm-haiku: filename=dm_haiku-0.0.11.dev0-py3-none-any.whl size=360353 sha256=c78fa7e95b01715636505bff4974925e1a96549a416e640436b9a4a9d7f766a2\n",
            "  Stored in directory: /tmp/pip-ephem-wheel-cache-iezt1kkv/wheels/b1/df/f1/a357fa8f00c36052bdae1e1fd363650c0bd1e8c3959487b6fb\n",
            "Successfully built dm-haiku\n",
            "Installing collected packages: jmp, dm-haiku\n",
            "Successfully installed dm-haiku-0.0.11.dev0 jmp-0.0.4\n",
            "Collecting gplearn\n",
            "  Downloading gplearn-0.4.2-py3-none-any.whl (25 kB)\n",
            "Requirement already satisfied: scikit-learn>=1.0.2 in /usr/local/lib/python3.10/dist-packages (from gplearn) (1.2.2)\n",
            "Requirement already satisfied: joblib>=1.0.0 in /usr/local/lib/python3.10/dist-packages (from gplearn) (1.3.1)\n",
            "Requirement already satisfied: numpy>=1.17.3 in /usr/local/lib/python3.10/dist-packages (from scikit-learn>=1.0.2->gplearn) (1.22.4)\n",
            "Requirement already satisfied: scipy>=1.3.2 in /usr/local/lib/python3.10/dist-packages (from scikit-learn>=1.0.2->gplearn) (1.10.1)\n",
            "Requirement already satisfied: threadpoolctl>=2.0.0 in /usr/local/lib/python3.10/dist-packages (from scikit-learn>=1.0.2->gplearn) (3.2.0)\n",
            "Installing collected packages: gplearn\n",
            "Successfully installed gplearn-0.4.2\n"
          ]
        }
      ]
    },
    {
      "cell_type": "code",
      "execution_count": 2,
      "metadata": {
        "id": "Q-s-fsTrPiQb",
        "outputId": "3f8c7024-6e6c-4a38-b9c4-2c8c9ef8e7a9",
        "colab": {
          "base_uri": "https://localhost:8080/"
        }
      },
      "outputs": [
        {
          "output_type": "stream",
          "name": "stdout",
          "text": [
            "gpu\n"
          ]
        }
      ],
      "source": [
        "from typing import Iterator, NamedTuple\n",
        "import jax\n",
        "import jax.numpy as jnp\n",
        "from jax.numpy import pi, sin, cos\n",
        "from jax import value_and_grad, jit\n",
        "from jax import random\n",
        "from jax.experimental.ode import odeint\n",
        "from jax.config import config\n",
        "import matplotlib.pyplot as plt\n",
        "import imageio\n",
        "import time\n",
        "from tqdm.auto import trange\n",
        "from matplotlib.patches import Circle\n",
        "from functools import partial\n",
        "from sklearn.model_selection import train_test_split\n",
        "import haiku as hk\n",
        "import optax\n",
        "import numpy as np\n",
        "import gplearn as gp\n",
        "\n",
        "# This tells us whether we are on cpu or gpu.\n",
        "print(jax.lib.xla_bridge.get_backend().platform)\n",
        "\n",
        "# Disabling jit can be used for debugging. Default is false.\n",
        "config.update(\"jax_disable_jit\", False)\n",
        "# Sometimes NaNs can be generated if we are not working in x64, but x64 is slower. Default is false.\n",
        "config.update(\"jax_enable_x64\", False)\n",
        "# This causes the program to end if a NaN is detected in the jax code. Default is False.\n",
        "config.update(\"jax_debug_nans\", False)\n",
        "\n",
        "# Define our constants.\n",
        "g = - 9.81\n",
        "dt = 0.001\n",
        "data_points = 32768\n",
        "prediction_batch_size = 16\n",
        "training_batch_size = 8\n",
        "total_time = data_points * dt\n",
        "gradient_updates = 20000"
      ]
    },
    {
      "cell_type": "code",
      "source": [
        "\"\"\" Define our target differential equation. This will be used to generate our data \"\"\"\n",
        "\n",
        "@jit\n",
        "def dy_dt(y, t, g):\n",
        "  # These our our 2 angles and 2 angular velocities.\n",
        "  theta_1 = y[0]\n",
        "  theta_2 = y[1]\n",
        "  omega_1 = y[2]\n",
        "  omega_2 = y[3]\n",
        "\n",
        "  # Make the equations nicer by setting these:\n",
        "  s = sin(theta_1 - theta_2)\n",
        "  c = cos(theta_1 - theta_2)\n",
        "\n",
        "  # Derivative of the thetas are just the omegas:\n",
        "  dtheta1_dt = omega_1\n",
        "  dtheta2_dt = omega_2\n",
        "\n",
        "  # Derivative of the omegas:\n",
        "  domega1_dt = ( g * sin(theta_2) * c - s * ((omega_1 ** 2) * c + (omega_2 ** 2)) - 2 * g * sin(theta_1) ) / (1 + s ** 2)\n",
        "\n",
        "  domega2_dt = ( 2 * ( (omega_1 ** 2) * s - g * sin(theta_2) + g * sin(theta_1) * c ) + (omega_2 ** 2) * s * c ) / (1 + s ** 2)\n",
        "\n",
        "  dy_dt = jnp.array([dtheta1_dt, dtheta2_dt, domega1_dt, domega2_dt])\n",
        "  return dy_dt"
      ],
      "metadata": {
        "id": "qYRJCOSFe2KS"
      },
      "execution_count": 3,
      "outputs": []
    },
    {
      "cell_type": "code",
      "source": [
        "\"\"\"Make a function to generate our initial point.\"\"\"\n",
        "\n",
        "# Cannot jit this as then simple == True will cause an error.\n",
        "def generate_initial_point(simple=False, perturb = 0.2):\n",
        "  # This will generate simple data if we want to.\n",
        "  if simple == True:\n",
        "    theta_1_init = perturb\n",
        "    theta_2_init = perturb\n",
        "    omega_1_init = 2\n",
        "    omega_2_init = 0\n",
        "  # Otherwise, generate with random initial point.\n",
        "  else:\n",
        "    key, subkey = random.split(random.PRNGKey(int(time.time())))\n",
        "    theta_1_init = random.uniform(key, minval = 0, maxval = 2 * pi)\n",
        "    theta_2_init = random.uniform(subkey, minval = 0, maxval = 2 * pi)\n",
        "\n",
        "    key, subkey = random.split(key)\n",
        "    omega_1_init = random.uniform(key, minval = -5, maxval = 5)\n",
        "    omega_2_init = random.uniform(key, minval = -5, maxval = 5)\n",
        "\n",
        "  # Create the array of our initial value.\n",
        "  init = jnp.array([theta_1_init, theta_2_init, omega_1_init, omega_2_init])\n",
        "  return init"
      ],
      "metadata": {
        "id": "DuFRifkcxqEh"
      },
      "execution_count": 4,
      "outputs": []
    },
    {
      "cell_type": "code",
      "source": [
        "\"\"\"Generate and print our data.\"\"\"\n",
        "\n",
        "# Make our time array:\n",
        "tsteps = jnp.linspace(0, total_time, data_points)\n",
        "\n",
        "init = generate_initial_point(True)\n",
        "generated_data = odeint(dy_dt, init, tsteps, g)\n",
        "plt.plot(generated_data[:, 0], generated_data[:, 1])"
      ],
      "metadata": {
        "id": "VlT_hRLlqAvG",
        "outputId": "b62f14de-a711-45d3-cb60-d5dc2d07fb40",
        "colab": {
          "base_uri": "https://localhost:8080/",
          "height": 447
        }
      },
      "execution_count": 5,
      "outputs": [
        {
          "output_type": "execute_result",
          "data": {
            "text/plain": [
              "[<matplotlib.lines.Line2D at 0x7ffab01f3a00>]"
            ]
          },
          "metadata": {},
          "execution_count": 5
        },
        {
          "output_type": "display_data",
          "data": {
            "text/plain": [
              "<Figure size 640x480 with 1 Axes>"
            ],
            "image/png": "[encoded data removed]"
          },
          "metadata": {}
        }
      ]
    },
    {
      "cell_type": "code",
      "source": [
        "\"\"\"Normalise and print our generated data.\"\"\"\n",
        "\n",
        "# Normalise the angles by dividing by pi, and the velocity by dividing by 100.\n",
        "@jit\n",
        "def modulo_two_pi(x):\n",
        "  return x % (2 * pi)\n",
        "\n",
        "# Normalise our generated data. We normalise the angles by modulo-ing the angles by 2 pi, dividing by pi (so that values are between 0 and 2), and then subtracting 1,\n",
        "# so that the valeus are between -1 and 1. To normalise the angular velocities, divide by 100.\n",
        "@jit\n",
        "def normalise_data(generated_data):\n",
        "  normalised_data = generated_data\n",
        "  normalised_data = normalised_data.at[:,:2].apply(modulo_two_pi)\n",
        "  normalised_data = normalised_data.at[:,:2].divide(pi)\n",
        "  normalised_data = normalised_data.at[:,:2].add(-1)\n",
        "\n",
        "  normalised_data = normalised_data.at[:,2:].divide(pi)\n",
        "\n",
        "  return normalised_data\n",
        "\n",
        "normalised_data = normalise_data(generated_data)\n",
        "plt.plot(normalised_data[:, 0], normalised_data[:, 1])\n",
        "\n",
        "# Before we split the data, we need to actually package it into short ordered batches. The idea is we will have:\n",
        "# the dataset: [y0, y1, .... , yt], where yi = (theta_1i, theta_2i, omega_1i, omega_2i)\n",
        "# which will then be packaged into smaller, ordered time series batches like this:\n",
        "# z0 = [y0, y1, ... , yn], z1 = [y(n+1), y(n+2), ... , y(2n)] etc.\n",
        "# And these can then be put into training batches as we would expect normally.\n",
        "\n",
        "@jit\n",
        "def order_batches(normalised_data):\n",
        "  ordered_batches = []\n",
        "  for i in range(data_points - prediction_batch_size - 1):\n",
        "    ordered_batches.append(normalised_data[i:i + prediction_batch_size,:])\n",
        "\n",
        "  ordered_batches = jnp.array(ordered_batches)\n",
        "  return ordered_batches\n",
        "\n",
        "ordered_batches = order_batches(normalised_data)\n",
        "\n",
        "# Split the data. We need shuffle to be 0 to preserve the time series.\n",
        "x_train, x_test = train_test_split(ordered_batches, random_state=42)\n",
        "\n"
      ],
      "metadata": {
        "id": "zJXcW076yN2N"
      },
      "execution_count": null,
      "outputs": []
    },
    {
      "cell_type": "markdown",
      "source": [
        "# Build The Model"
      ],
      "metadata": {
        "id": "XjWXaS99tgB0"
      }
    },
    {
      "cell_type": "code",
      "source": [
        "\"\"\"Define our dataset class. This allows us to batch our data when training.\"\"\"\n",
        "\n",
        "class Dataset:\n",
        "  \"\"\"An iterator over a numpy array, revealing batch_size elements at a time.\"\"\"\n",
        "  # Initialise our dataset class. It needs the full x and y values and a batch size to be initialised.\n",
        "  def __init__(self, x: jnp.array, batch_size: int):\n",
        "    self._x = x\n",
        "    self._batch_size = batch_size\n",
        "    self._length = self._x.shape[0]\n",
        "    # The id stores where the next datapoint should be taken from, so when initialised it should be 0.\n",
        "    self._idx = 0\n",
        "\n",
        "  # This is the function that gives us our next batch of data.\n",
        "  def __next__(self):\n",
        "    # Start again from beginning of dataset if there are not enough datapoints in front.\n",
        "    if self._idx + self._batch_size >= self._length:\n",
        "      self._idx = 0\n",
        "\n",
        "    # Select the first and last datapoints in the batch. First will be the current value of the ID\n",
        "    start = self._idx\n",
        "    end = start + self._batch_size\n",
        "    # Select our data.\n",
        "    x= self._x[start:end]\n",
        "    # This resets us back to 0 once we reach the end of our data.\n",
        "    if end >= self._length:\n",
        "      end = end % self._length\n",
        "      # assert end == 0  # Guaranteed by ctor assertion.\n",
        "    self._idx = end\n",
        "    return x"
      ],
      "metadata": {
        "id": "Gd2Y9WtYxQcT"
      },
      "execution_count": null,
      "outputs": []
    },
    {
      "cell_type": "code",
      "source": [
        "\"\"\"Now that we have defined our dataset class, we can make our datasets.\"\"\"\n",
        "\n",
        "train_dataset = Dataset(x_train, training_batch_size)\n",
        "eval_dataset = Dataset(x_test, training_batch_size)"
      ],
      "metadata": {
        "id": "1XEhn7Goj8Cq"
      },
      "execution_count": null,
      "outputs": []
    },
    {
      "cell_type": "code",
      "source": [
        "\"\"\"Define our batch and trainingstate class.\"\"\"\n",
        "\n",
        "# Define a batch of data.\n",
        "class Batch(NamedTuple):\n",
        "  input: np.ndarray\n",
        "  output: np.ndarray\n",
        "\n",
        "# Define a training state, telling us what parameters we have and the state of the optimizer.\n",
        "class TrainingState(NamedTuple):\n",
        "  params: hk.Params\n",
        "  opt_state: optax.OptState"
      ],
      "metadata": {
        "id": "ZoB9o03CmvqU"
      },
      "execution_count": null,
      "outputs": []
    },
    {
      "cell_type": "code",
      "source": [
        "\"\"\"Define the neural network and set our optimizer.\"\"\"\n",
        "\n",
        "def FeedForward(x):\n",
        "  mlp = hk.Sequential([\n",
        "      hk.Linear(32), jax.nn.sigmoid,\n",
        "      hk.Linear(32), jax.nn.leaky_relu,\n",
        "      hk.Linear(32), jax.nn.sigmoid,\n",
        "      hk.Linear(2),\n",
        "  ])\n",
        "  return mlp(x)\n",
        "\n",
        "# Define our network and optimiser.\n",
        "network = hk.without_apply_rng(hk.transform(FeedForward))\n",
        "optimiser = optax.adam(1e-2)"
      ],
      "metadata": {
        "id": "jveNOFup1cqm"
      },
      "execution_count": null,
      "outputs": []
    },
    {
      "cell_type": "code",
      "source": [
        "\"\"\"Define our mean squared error loss function.\"\"\"\n",
        "\n",
        "@jit\n",
        "def nn_predict(x, t, weights):\n",
        "  # Our network only predicts the acceleration. Since we are using odeint on it, we need input and output to be the same shape, so we can attach the velocities directly\n",
        "  # onto it too. We also need to normalise our inputs.\n",
        "  x = x.at[:2].add(1)\n",
        "  x = x.at[:2].apply(modulo_two)\n",
        "  x = x.at[:2].add(-1)\n",
        "  veloc = x[2:]\n",
        "  accel = network.apply(weights, x)\n",
        "  y = jnp.hstack((veloc, accel))\n",
        "  return y\n",
        "\n",
        "@jit\n",
        "def modulo_two(x):\n",
        "  return x % 2\n",
        "\n",
        "@jit\n",
        "def normalise_predictions(preds):\n",
        "  preds = preds.at[:,:2].add(1)\n",
        "  preds = preds.at[:,:2].apply(modulo_two)\n",
        "  preds = preds.at[:,:2].add(-1)\n",
        "  return preds\n",
        "\n",
        "@jit\n",
        "def minimum_difference(truth, preds):\n",
        "  difference_1 = jnp.absolute(truth - preds)\n",
        "  difference_2 = jnp.absolute(truth - preds + (2*pi))\n",
        "  difference_3 = jnp.absolute(truth - preds - (2*pi))\n",
        "  return jnp.minimum(difference_3, jnp.minimum(difference_1, difference_2))\n",
        "\n",
        "batch_tsteps = jnp.array([i*dt for i in range(prediction_batch_size)])\n",
        "\n",
        "@jit\n",
        "def MeanSquaredErrorLoss(weights, batch, tsteps=None):\n",
        "\n",
        "  # This array will hold our predictions for each prediction batch.\n",
        "  preds = []\n",
        "  # Make our predictions. Our output data is periodic between (-1, 1), but odeint doesn't know that it has to stay within these bounds. Thus,\n",
        "  # we will have to manually normalise it. To do this, we can add 1 so it is periodic between (0, 2), module by 2, and then subtract 1 again.\n",
        "  for i in range(batch.shape[0]):\n",
        "    if tsteps != None:\n",
        "      prediction = odeint(nn_predict, batch[i, 0], tsteps, weights)\n",
        "      batch = odeint(dy_dt, batch[i, 0], tsteps, g)\n",
        "    else:\n",
        "      prediction = odeint(nn_predict, batch[i, 0], batch_tsteps, weights)\n",
        "    prediction = normalise_predictions(prediction)\n",
        "    # This adds the prediction for batch i to the preds tuple.\n",
        "    preds.append(prediction)\n",
        "\n",
        "  preds = jnp.array(preds)\n",
        "  difference = minimum_difference(batch, preds)\n",
        "\n",
        "  return jnp.power(difference, 2).mean()"
      ],
      "metadata": {
        "id": "1HoiXNA_2mzi"
      },
      "execution_count": null,
      "outputs": []
    },
    {
      "cell_type": "code",
      "source": [
        "\"\"\"Define what happens at each gradient update.\"\"\"\n",
        "\n",
        "@jit\n",
        "def update(state: TrainingState, batch: Batch) -> TrainingState:\n",
        "  # This is how we define our stochastic gradient descent.\n",
        "\n",
        "  # Find grads of loss w.r.t parameters, on this batch of the data\n",
        "  grads = jax.grad(MeanSquaredErrorLoss)(state.params, batch)\n",
        "  # Get the updates and the new optimser state from this.\n",
        "  updates, opt_state = optimiser.update(grads, state.opt_state)\n",
        "  # Apply the updates to the parameters.\n",
        "  params = optax.apply_updates(state.params, updates)\n",
        "\n",
        "  #return the training state with the new parameters and the optimiser.\n",
        "  return TrainingState(params, opt_state)"
      ],
      "metadata": {
        "id": "9Qe0bcrc28Ln"
      },
      "execution_count": null,
      "outputs": []
    },
    {
      "cell_type": "code",
      "source": [
        "\"\"\"Initialise our parameters and print the shape of our network.\"\"\"\n",
        "\n",
        " #Initialising the parameters randomly.\n",
        "rng = jax.random.PRNGKey(12)\n",
        "initial_params = network.init(rng, x_train[1])\n",
        "\n",
        "# Initialise the optimiser and the define the state.\n",
        "initial_opt_state = optimiser.init(initial_params)\n",
        "state = TrainingState(initial_params, initial_opt_state)\n",
        "\n",
        "# Print the structure of the network.\n",
        "print(\"Weights Type : {}\\n\".format(type(initial_params)))\n",
        "\n",
        "for layer_name, weights in initial_params.items():\n",
        "    print(layer_name)\n",
        "    print(\"Weights : {}, Biases : {}\\n\".format(initial_params[layer_name][\"w\"].shape,initial_params[layer_name][\"b\"].shape))"
      ],
      "metadata": {
        "id": "dZm9BX5x2_D_"
      },
      "execution_count": null,
      "outputs": []
    },
    {
      "cell_type": "code",
      "source": [
        "\"\"\"Define lists to store our loss over time in. This is not in the cell below so that we can run our training loop multiple times and keep the losses.\"\"\"\n",
        "\n",
        "train_loss_list = []\n",
        "val_loss_list = []\n",
        "second_loss_list = []\n",
        "energy_list = []\n",
        "action_list = []"
      ],
      "metadata": {
        "id": "hE9prG1bd_--"
      },
      "execution_count": null,
      "outputs": []
    },
    {
      "cell_type": "markdown",
      "source": [
        "# Calculating Action and Energy"
      ],
      "metadata": {
        "id": "0mX4bZl0SJ5l"
      }
    },
    {
      "cell_type": "markdown",
      "source": [
        "We can check the legitimacy of our system by seeing if it minimises action and conserves the energy. To calculate the action of our system, we first need the Lagrangian of our system. Our Lagrangian is defined as:\n",
        "\n",
        "$$ L = T - V $$\n",
        "\n",
        "Similarly, our total energy (which should be conserved) is:\n",
        "\n",
        "$$ E = T + V $$\n",
        "\n",
        "Where $T$ is Kinetic Energy and $V$ is Potential Energy. The Kinetic Energy of the system is just the sum of the kinetic energies for each mass. Since the mass is normalised at 1, this is:\n",
        "\n",
        "$$ \\begin{align} T & = \\frac{1}{2} v_1^2 + \\frac{1}{2} v_2^2 \\\\ & = \\frac{1}{2} (\\dot{x}_1^2 + \\dot{y}_1^2 ) + \\frac{1}{2} ( \\dot {x}_2^2 + \\dot{y}_2^2 ) \\end{align} $$\n",
        "\n",
        "The Potential Energy of the system is just the gravitational potential energy as there are no other factors at play. Since our masses and lengths are both normalised at 1, this will be:\n",
        "\n",
        "$$ V = g y_1 + g y_2 $$\n",
        "\n",
        "We can define the $x$'s and $y$'s as just the angles $ \\theta_1, \\theta_2 $ since the radius is constant at 0. $x_1$ and $y_1$ are easy to define, since they rotate around a fixed point:\n",
        "\n",
        "$$ \\begin{align} x_1 & = \\sin{\\theta_1} \\\\ y_1 & = - \\cos{\\theta_1} \\end{align} $$\n",
        "\n",
        "For $x_2$ and $y_2,$ we must add the $x_1$ and $y_1$ values to them respectively, to account for the fact that the axis is not fixed:\n",
        "\n",
        "$$ \\begin{align} x_2 & = \\sin{\\theta_1} + \\sin{\\theta_2} \\\\ y_2 & = - \\cos{\\theta_1} - \\cos{\\theta_2} \\end{align} $$\n",
        "\n",
        "And these values can be differentiated to find their time derivatives:\n",
        "\n",
        "$$ \\begin{align} \\dot{x}_1 & = \\dot{\\theta}_1 \\cos{\\theta_1} \\\\ \\dot{y}_1 & = \\dot{\\theta}_1 \\sin{\\theta_1} \\\\ \\dot{x}_2 & = \\dot{\\theta}_1 \\cos{\\theta}_1 + \\dot{\\theta}_2 \\cos{\\theta}_2 \\\\ \\dot{y}_2 & = \\dot{\\theta}_1 \\sin{\\theta_1} + \\dot{\\theta}_2 \\sin{\\theta_2} \\end{align} $$\n",
        "\n",
        "We can calculate our Lagrangian and integrate along this over every point in our trajectory to calculate the action, i.e. calculate the Lagrangian at every point and sum these multiplied by $dt.$\n",
        "\n",
        "The principle of least action states that if a system evolves from point $x_0$ at time $t_0$ to point $x_1$ at time $t_1$, the path that it takes will be the path that minimises the action. Thus, the idea is that you can tell if the system is improving by seeing if the action minimises to the same value. But this only works if the path always ends at the same point, while our ode solver doesn't actually ensure this."
      ],
      "metadata": {
        "id": "F2p7k9_NmdKn"
      }
    },
    {
      "cell_type": "code",
      "source": [
        "# First create a function to convert our angles and angular velocities to Cartesian Coordinates.\n",
        "@jit\n",
        "def cartesian(theta):\n",
        "  # First we have to 'un normalise' our data by adding 1 to the angles and multiplying everything by 2 pi.\n",
        "  theta = theta.at[:2].add(1)\n",
        "  theta = theta * pi\n",
        "\n",
        "  theta_1 = theta[0]\n",
        "  theta_2 = theta[1]\n",
        "  omega_1 = theta[2]\n",
        "  omega_2 = theta[3]\n",
        "\n",
        "  x_1 = sin(theta_1)\n",
        "  y_1 = - cos(theta_1)\n",
        "\n",
        "  x_2 = sin(theta_1) + sin(theta_2)\n",
        "  y_2 = - cos(theta_1) - cos(theta_2)\n",
        "\n",
        "  dxdt_1 = omega_1 * cos(theta_1)\n",
        "  dydt_1 = omega_1 * sin(theta_1)\n",
        "\n",
        "  dxdt_2 = omega_1 * cos(theta_1) + omega_2 * cos(theta_2)\n",
        "  dydt_2 = omega_1 * sin(theta_1) + omega_2 * sin(theta_2)\n",
        "  return [x_1, y_1, x_2, y_2, dxdt_1, dydt_1, dxdt_2, dydt_2]\n",
        "\n",
        "@jit\n",
        "def kinetic_energy(x):\n",
        "  kinetic = 1/2 * (x[4]**2 + x[5]**2 + x[6]**2 + x[7]**2)\n",
        "  return kinetic\n",
        "\n",
        "@jit\n",
        "def potential_energy(x):\n",
        "  potential = g * (x[1] + x[3])\n",
        "  return potential\n",
        "\n",
        "@jit\n",
        "def total_energy(theta):\n",
        "  x = cartesian(theta)\n",
        "  kinetic = kinetic_energy(x)\n",
        "  potential = potential_energy(x)\n",
        "  return kinetic + potential\n",
        "\n",
        "@jit\n",
        "def lagrangian(theta):\n",
        "  x = cartesian(theta)\n",
        "  kinetic = kinetic_energy(x)\n",
        "  potential = potential_energy(x)\n",
        "  return kinetic - potential\n",
        "\n",
        "# The action of the system is the weighted sum of the lagrangians.\n",
        "@jit\n",
        "def action(data):\n",
        "  action = 0.\n",
        "  for i in range(data.shape[0]):\n",
        "    action = action + dt * lagrangian(data[i])\n",
        "  return action"
      ],
      "metadata": {
        "id": "N344maJtmNbt"
      },
      "execution_count": null,
      "outputs": []
    },
    {
      "cell_type": "code",
      "source": [
        "\"\"\"Run the training & evaluation loop.\"\"\"\n",
        "actual_energy = total_energy(normalised_data[0])\n",
        "print(\"actual energy = \", actual_energy)\n",
        "for step in range(gradient_updates):\n",
        "  # Do stochastic gradient descent on a batch of training examples.\n",
        "  state = update(state, next(train_dataset))\n",
        "\n",
        "  # Print the training and evaluation loss every 1000 time steps. We normalise the loss so that if we change batch size, the loss stays at the same scale.\n",
        "  if step % 100 == 0:\n",
        "    # First use odeint on our network to calculate a path, so we can evaluate the action and energy for this path.\n",
        "    data = next(train_dataset)[0]\n",
        "    predicted_data = odeint(nn_predict, data[0], batch_tsteps, state.params)\n",
        "    predicted_data = normalise_predictions(predicted_data)\n",
        "    # We evaluate the energy at the last prediction point, as this should be where the error is largest.\n",
        "    energy_list.append(total_energy(predicted_data[-1]))\n",
        "\n",
        "    # We care about whether the difference between real and predicted action is decreasing, since the action will be different for each prediction batch.\n",
        "    action_list.append(action(predicted_data) - action(data))\n",
        "\n",
        "    # We need a way of comparing the loss of one network to another. This cannot be done by taking the training loss as this will vary depending on the length of time that\n",
        "    # we predict over. Thus, we will make a '1 second loss' which is the loss from the prediction in 1 seconds time.\n",
        "\n",
        "    second_loss_list.append(MeanSquaredErrorLoss(state.params, jnp.array([data]), jnp.array([0., 1.])))\n",
        "\n",
        "    train_loss_list.append(MeanSquaredErrorLoss(state.params, next(train_dataset)) / (training_batch_size * prediction_batch_size))\n",
        "    val_loss_list.append(MeanSquaredErrorLoss(state.params, next(eval_dataset)) / (training_batch_size * prediction_batch_size))\n",
        "    print(\"Step {}: train loss {}, eval loss {}, 1 second loss {}, energy {}, action {}\".format(step, train_loss_list[-1], val_loss_list[-1], second_loss_list[-1], energy_list[-1], action_list[-1]))"
      ],
      "metadata": {
        "id": "ThKKvvcr3BDP"
      },
      "execution_count": null,
      "outputs": []
    },
    {
      "cell_type": "code",
      "source": [
        " \"\"\"Plot our losses, energy and change in action\"\"\"\n",
        "\n",
        "plt.plot(train_loss_list, color=\"b\", label=\"training loss\")\n",
        "plt.plot(val_loss_list, color=\"r\", label=\"validation loss\")\n",
        "plt.title(\"Training and Validation Loss\")\n",
        "plt.legend()\n",
        "plt.show()\n",
        "plt.close()\n",
        "\n",
        "plt.plot(second_loss_list, color=\"b\")\n",
        "plt.title(\"Loss of Predicted Point 1 second after IV\")\n",
        "plt.show()\n",
        "plt.close()\n",
        "\n",
        "plt.plot(energy_list, label=\"Energy of prediction\")\n",
        "plt.plot((0, len(energy_list)), (actual_energy, actual_energy), label=\"True Energy\")\n",
        "plt.title(\"Energy\")\n",
        "plt.legend()\n",
        "plt.show()\n",
        "plt.close()\n",
        "\n",
        "plt.plot(action_list, label=\"Change in Action\")\n",
        "plt.plot((0, len(action_list)), (0, 0), label=\"0\")\n",
        "plt.title(\"Action of predicted path - true action\")\n",
        "plt.legend()\n",
        "plt.show()\n",
        "plt.close()"
      ],
      "metadata": {
        "id": "91VswHF87esZ"
      },
      "execution_count": null,
      "outputs": []
    },
    {
      "cell_type": "code",
      "source": [
        "\"\"\"Create graphs showing how well our model does, and evaluate loss from each of these graphs.\"\"\"\n",
        "\n",
        "# How many points to print / generate for our graphs.\n",
        "display_data_points = 20000\n",
        "\n",
        "# Our first graph will be comparing the full length of training data to predictions of this.\n",
        "predicted_data = odeint(nn_predict, normalised_data[0], tsteps[:display_data_points], state.params)\n",
        "predicted_data = normalise_predictions(predicted_data)\n",
        "\n",
        "# Print the loss on this full length of the dataset.\n",
        "print(\"total dataset loss: \", jnp.power(normalised_data[:display_data_points,:2] - predicted_data[:,:2], 2).mean())\n",
        "\n",
        "# The graph looks very messy if the number of points is large, so we only print the first display_data_points of the data.\n",
        "plt.plot(predicted_data[:display_data_points, 0], predicted_data[:display_data_points, 1], color=\"blue\", label=\"Predicted\")\n",
        "plt.plot(normalised_data[:display_data_points, 0], normalised_data[:display_data_points, 1], color=\"red\", label=\"Truth\", linestyle=\"dashed\")\n",
        "plt.plot(normalised_data[0,0], normalised_data[0,1], \"o\", color=\"green\")\n",
        "plt.legend()\n",
        "plt.title(\"plot from start of training data\")\n",
        "plt.show()\n",
        "plt.close()\n",
        "\n",
        "# The second graph will be using the same generated data, but only displaying as many points as are in the prediction batches.\n",
        "plt.plot(predicted_data[:prediction_batch_size, 0], predicted_data[:prediction_batch_size, 1], color=\"blue\", label=\"Predicted\")\n",
        "plt.plot(normalised_data[:prediction_batch_size, 0], normalised_data[:prediction_batch_size, 1], color=\"red\", label=\"Truth\", linestyle=\"dashed\")\n",
        "plt.plot(normalised_data[0,0], normalised_data[0,1], \"o\", color=\"green\")\n",
        "plt.legend()\n",
        "plt.title(\"Batch size plot from start of training data\")\n",
        "plt.show()\n",
        "plt.close()\n",
        "\n",
        "# The final graph will be from a newly generated set of data.\n",
        "\n",
        "# Generate our initial datapoints and normalise these.\n",
        "init_eval = generate_initial_point(False, perturb=-pi)\n",
        "generated_eval_data = odeint(dy_dt, init_eval, tsteps, g)\n",
        "normalised_eval_data = normalise_data(generated_eval_data)\n",
        "\n",
        "# Use our network to make predictions on this and normalise those.\n",
        "predicted_eval_data = odeint(nn_predict, normalised_eval_data[0], tsteps, state.params)\n",
        "predicted_eval_data = normalise_predictions(predicted_eval_data)\n",
        "\n",
        "# Plot this data\n",
        "plt.plot(predicted_eval_data[:display_data_points, 0], predicted_eval_data[:display_data_points, 1], color=\"blue\", label=\"Predicted\")\n",
        "plt.plot(normalised_eval_data[:display_data_points, 0], normalised_eval_data[:display_data_points, 1], color=\"red\", label=\"Truth\", linestyle=\"dashed\")\n",
        "plt.plot(normalised_eval_data[0,0], normalised_eval_data[0,1], \"o\", color=\"green\")\n",
        "plt.legend()\n",
        "plt.title(\"Random Starting point.\")\n",
        "plt.show()\n",
        "plt.close()"
      ],
      "metadata": {
        "id": "GsDw0VV2BK-7"
      },
      "execution_count": null,
      "outputs": []
    },
    {
      "cell_type": "markdown",
      "source": [
        "# Symbolic Regression\n"
      ],
      "metadata": {
        "id": "Tdj7yrO6V63g"
      }
    },
    {
      "cell_type": "code",
      "source": [
        "from gplearn.genetic import SymbolicRegressor\n",
        "import graphviz\n",
        "# Generate some random points.\n",
        "symb_key = jax.random.PRNGKey(14)\n",
        "symb_input = jax.random.uniform(key=symb_key, shape=(100, 4), minval=0, maxval=2*pi)\n",
        "\n",
        "symb_input_normalised = normalise_data(symb_input)\n",
        "symb_output = network.apply(state.params, symb_input_normalised) * 2 * pi\n",
        "\n",
        "est_gp = gp.genetic.SymbolicRegressor(function_set=['add', 'sub', 'mul', 'div', 'sin', 'cos'], population_size=5000,\n",
        "                           generations=20, stopping_criteria=0.01,\n",
        "                           p_crossover=0.7, p_subtree_mutation=0.1,\n",
        "                           p_hoist_mutation=0.05, p_point_mutation=0.1,\n",
        "                           max_samples=0.9, verbose=1,\n",
        "                           parsimony_coefficient=0.01, random_state=0)\n",
        "\n",
        "est_gp.fit(symb_input, symb_output[:,0])\n",
        "\n",
        "idx = est_gp._program.parents['donor_idx']\n",
        "fade_nodes = est_gp._program.parents['donor_nodes']\n",
        "dot_data = est_gp._programs[-2][idx].export_graphviz(fade_nodes=fade_nodes)\n",
        "graph = graphviz.Source(dot_data)\n",
        "graph"
      ],
      "metadata": {
        "id": "Cmn104PfWCwC"
      },
      "execution_count": null,
      "outputs": []
    },
    {
      "cell_type": "markdown",
      "source": [
        "# Create animation of the pendulums"
      ],
      "metadata": {
        "id": "rfOB9ttM3E23"
      }
    },
    {
      "cell_type": "markdown",
      "source": [
        "Code below will convert the data into a gif."
      ],
      "metadata": {
        "id": "MdfpoSvDceut"
      }
    },
    {
      "cell_type": "code",
      "source": [
        "# Convert to Cartesian coordinates of the two bob positions.\n",
        "\n",
        "theta_1 = (1 + predicted_data[:,0]) * pi\n",
        "theta_2 = (1 + predicted_data[:,1]) * pi\n",
        "\n",
        "Theta_1 = generated_data[:,0]\n",
        "Theta_2 = generated_data[:,1]\n",
        "\n",
        "x1 = sin(theta_1)\n",
        "y1 = cos(theta_1)\n",
        "x2 = x1 + sin(theta_2)\n",
        "y2 = y1 + cos(theta_2)\n",
        "\n",
        "X1 = sin(Theta_1)\n",
        "Y1 = cos(Theta_1)\n",
        "X2 = X1 + sin(Theta_2)\n",
        "Y2 = Y1 + cos(Theta_2)\n",
        "\n",
        "# Plotted bob circle radius\n",
        "r = 0.05\n",
        "# Plot a trail of the m2 bob's position for the last trail_secs seconds.\n",
        "trail_secs = 1\n",
        "# This corresponds to max_trail time points.\n",
        "max_trail = int(trail_secs / dt)\n",
        "\n",
        "def make_plot(i):\n",
        "    # Plot and save an image of the double pendulum configuration for time\n",
        "    # point i.\n",
        "    # The pendulum rods.\n",
        "    ax.plot([0, x1[i], x2[i]], [0, y1[i], y2[i]], lw=2, c='k')\n",
        "    # Circles representing the anchor point of rod 1, and bobs 1 and 2.\n",
        "    c0 = Circle((0, 0), r/2, fc='k', zorder=10)\n",
        "    c1 = Circle((x1[i], y1[i]), r, fc='b', ec='b', zorder=10)\n",
        "    c2 = Circle((x2[i], y2[i]), r, fc='r', ec='r', zorder=10)\n",
        "    ax.add_patch(c0)\n",
        "    ax.add_patch(c1)\n",
        "    ax.add_patch(c2)\n",
        "\n",
        "    ax.plot([0, X1[i], X2[i]], [0, Y1[i], Y2[i]], lw=2, c='k')\n",
        "    c3 = Circle((X1[i], Y1[i]), r, fc='g', ec='g', zorder=10)\n",
        "    c4 = Circle((X2[i], Y2[i]), r, fc='y', ec='y', zorder=10)\n",
        "    ax.add_patch(c3)\n",
        "    ax.add_patch(c4)\n",
        "\n",
        "    # The trail will be divided into ns segments and plotted as a fading line.\n",
        "    ns = 20\n",
        "    s = max_trail // ns\n",
        "\n",
        "    for j in range(ns):\n",
        "        imin = i - (ns-j)*s\n",
        "        if imin < 0:\n",
        "            continue\n",
        "        imax = imin + s + 1\n",
        "        # The fading looks better if we square the fractional length along the\n",
        "        # trail.\n",
        "        alpha = (j/ns)**2\n",
        "        ax.plot(x2[imin:imax], y2[imin:imax], c='r', solid_capstyle='butt',\n",
        "                lw=2, alpha=alpha)\n",
        "\n",
        "        ax.plot(X2[imin:imax], Y2[imin:imax], c='y', solid_capstyle='butt',\n",
        "                lw=2, alpha=alpha)\n",
        "\n",
        "    # Centre the image on the fixed anchor point, and ensure the axes are equal\n",
        "    ax.set_xlim(-2-r, 2+r)\n",
        "    ax.set_ylim(-2-r, 2+r)\n",
        "    ax.set_aspect('equal', adjustable='box')\n",
        "    plt.axis('off')\n",
        "    plt.savefig('img{:04d}.png'.format(i//di), dpi=72)\n",
        "    plt.plot()\n",
        "    plt.cla()\n",
        "\n",
        "\n",
        "# Make an image every di time points, corresponding to a frame rate of fps\n",
        "# frames per second.\n",
        "# Frame rate, s-1\n",
        "fps = 10\n",
        "di = int(1/fps/dt)\n",
        "fig = plt.figure(figsize=(8.3333, 6.25), dpi=72)\n",
        "ax = fig.add_subplot(111)\n",
        "\n",
        "for i in range(0, tsteps.size, di):\n",
        "    print(i // di, '/', tsteps.size // di)\n",
        "    make_plot(i)"
      ],
      "metadata": {
        "id": "Da-1HEW4ocKl"
      },
      "execution_count": null,
      "outputs": []
    },
    {
      "cell_type": "code",
      "source": [
        "frames = []\n",
        "for i in range(483):\n",
        "  image = imageio.v2.imread(f'img{i:04}.png')\n",
        "  frames.append(image)\n",
        "\n",
        "imageio\n",
        "imageio.mimsave('./example.gif', # output gif\n",
        "                frames,          # array of input frames\n",
        "                fps = 10)         # optional: frames per second\n",
        "\n"
      ],
      "metadata": {
        "id": "cp42dUo572Cc"
      },
      "execution_count": null,
      "outputs": []
    },
    {
      "cell_type": "code",
      "source": [],
      "metadata": {
        "id": "AGb6Yf4SqdzV"
      },
      "execution_count": null,
      "outputs": []
    }
  ]
}