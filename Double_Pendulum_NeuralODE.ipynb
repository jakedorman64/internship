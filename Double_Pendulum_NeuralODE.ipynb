{
  "nbformat": 4,
  "nbformat_minor": 0,
  "metadata": {
    "colab": {
      "provenance": [],
      "gpuType": "T4",
      "authorship_tag": "ABX9TyPBaMMCZYF58ylJl33NrX2k",
      "include_colab_link": true
    },
    "kernelspec": {
      "name": "python3",
      "display_name": "Python 3"
    },
    "language_info": {
      "name": "python"
    },
    "accelerator": "GPU"
  },
  "cells": [
    {
      "cell_type": "markdown",
      "metadata": {
        "id": "view-in-github",
        "colab_type": "text"
      },
      "source": [
        "<a href=\"https://colab.research.google.com/github/jakedorman64/internship/blob/main/Double_Pendulum_NeuralODE.ipynb\" target=\"_parent\"><img src=\"https://colab.research.google.com/assets/colab-badge.svg\" alt=\"Open In Colab\"/></a>"
      ]
    },
    {
      "cell_type": "markdown",
      "source": [
        "#Double Pendulum Simulator\n",
        "\n",
        "Solving the Euler Lagrange equations for the double pendulum gives the second order differential equations:\n",
        "\n",
        "$$ \\begin{align} \\ddot{\\theta}_1 & = \\frac{g \\sin{\\theta_2} \\cos{(\\theta_1 - \\theta_2)} - \\sin{(\\theta_1 - \\theta_2)} \\left[ \\dot{\\theta}_1^2 \\cos{(\\theta_1 - \\theta_2)} + \\dot{\\theta}_2^2\\right] - 2 g \\sin{\\theta_1}}{1 + \\sin^2{(\\theta_1 - \\theta_2)}}\n",
        "\\\\\n",
        " \\ddot{\\theta}_2 & = \\frac{2 \\left[ \\dot{\\theta}_1^2 \\sin{(\\theta_1 - \\theta_2)} - g \\sin{\\theta_2} + g \\sin{\\theta_1} \\cos {(\\theta_1 - \\theta_2)} \\right] + \\dot{\\theta}_2^2 \\sin{(\\theta_1 - \\theta_2)} \\cos{(\\theta_1 - \\theta_2)}}{1 + \\sin^2{(\\theta_1 - \\theta_2)}} \\end{align} $$\n",
        "\n",
        "Note that we have set mass and length of both sections to be 1. We need a system of first order differential equations. Thus, we will define $ \\omega = \\dot{\\theta} $ for each section, thus giving us the system of equations:\n",
        "\n",
        "$$ \\begin{align} \\frac{d \\omega_1}{dt} & = \\frac{g \\sin{\\theta_2} \\cos{(\\theta_1 - \\theta_2)} - \\sin{(\\theta_1 - \\theta_2)} \\left[ \\omega_1^2 \\cos{(\\theta_1 - \\theta_2)} + \\omega_2^2\\right] - 2 g \\sin{\\theta_1}}{1 + \\sin^2{(\\theta_1 - \\theta_2)}}\n",
        "\\\\\n",
        " \\frac{d \\omega_2}{dt} & = \\frac{2 \\left[ \\omega_1^2 \\sin{(\\theta_1 - \\theta_2)} - g \\sin{\\theta_2} + g \\sin{\\theta_1} \\cos {(\\theta_1 - \\theta_2)} \\right] + \\omega_2^2 \\sin{(\\theta_1 - \\theta_2)} \\cos{(\\theta_1 - \\theta_2)}}{1 + \\sin^2{(\\theta_1 - \\theta_2)}} \\end{align} $$\n",
        " Plus the simpler equations:\n",
        " $$\\begin{align} \\frac{d \\theta_1}{dt} & = \\omega_1 \\\\ \\frac{d \\theta_2}{dt} & = \\omega_2. \\end{align} $$"
      ],
      "metadata": {
        "id": "uYyB_o-3Pi-q"
      }
    },
    {
      "cell_type": "markdown",
      "source": [
        "#Generate the Data"
      ],
      "metadata": {
        "id": "GnSdOh88tYR6"
      }
    },
    {
      "cell_type": "code",
      "source": [
        "!pip install git+https://github.com/deepmind/dm-haiku"
      ],
      "metadata": {
        "id": "Yv4-XZC31vsL",
        "outputId": "00260942-0a06-481a-b969-d622598cc63b",
        "colab": {
          "base_uri": "https://localhost:8080/"
        }
      },
      "execution_count": 129,
      "outputs": [
        {
          "output_type": "stream",
          "name": "stdout",
          "text": [
            "Looking in indexes: https://pypi.org/simple, https://us-python.pkg.dev/colab-wheels/public/simple/\n",
            "Collecting git+https://github.com/deepmind/dm-haiku\n",
            "  Cloning https://github.com/deepmind/dm-haiku to /tmp/pip-req-build-q_viqfyq\n",
            "  Running command git clone --filter=blob:none --quiet https://github.com/deepmind/dm-haiku /tmp/pip-req-build-q_viqfyq\n",
            "  Resolved https://github.com/deepmind/dm-haiku to commit f6439a1a234f1c46f0d515ade42de6f47553e7ef\n",
            "  Preparing metadata (setup.py) ... \u001b[?25l\u001b[?25hdone\n",
            "Requirement already satisfied: absl-py>=0.7.1 in /usr/local/lib/python3.10/dist-packages (from dm-haiku==0.0.10.dev0) (1.4.0)\n",
            "Collecting jmp>=0.0.2 (from dm-haiku==0.0.10.dev0)\n",
            "  Downloading jmp-0.0.4-py3-none-any.whl (18 kB)\n",
            "Requirement already satisfied: numpy>=1.18.0 in /usr/local/lib/python3.10/dist-packages (from dm-haiku==0.0.10.dev0) (1.22.4)\n",
            "Requirement already satisfied: tabulate>=0.8.9 in /usr/local/lib/python3.10/dist-packages (from dm-haiku==0.0.10.dev0) (0.8.10)\n",
            "Building wheels for collected packages: dm-haiku\n",
            "  Building wheel for dm-haiku (setup.py) ... \u001b[?25l\u001b[?25hdone\n",
            "  Created wheel for dm-haiku: filename=dm_haiku-0.0.10.dev0-py3-none-any.whl size=360287 sha256=e8b5b34730505517dd0cb9f96ee738fade0ad06b27217fe862cef783fa39caaa\n",
            "  Stored in directory: /tmp/pip-ephem-wheel-cache-d109jcpp/wheels/b1/df/f1/a357fa8f00c36052bdae1e1fd363650c0bd1e8c3959487b6fb\n",
            "Successfully built dm-haiku\n",
            "Installing collected packages: jmp, dm-haiku\n",
            "Successfully installed dm-haiku-0.0.10.dev0 jmp-0.0.4\n"
          ]
        }
      ]
    },
    {
      "cell_type": "code",
      "execution_count": 244,
      "metadata": {
        "id": "Q-s-fsTrPiQb"
      },
      "outputs": [],
      "source": [
        "from typing import Iterator, NamedTuple\n",
        "import jax\n",
        "import jax.numpy as jnp\n",
        "from jax.numpy import pi, sin, cos\n",
        "from jax import value_and_grad, jit\n",
        "from jax import random\n",
        "from jax.experimental.ode import odeint\n",
        "from jax.config import config\n",
        "import matplotlib.pyplot as plt\n",
        "import imageio\n",
        "import time\n",
        "from tqdm.auto import trange\n",
        "from matplotlib.patches import Circle\n",
        "from functools import partial\n",
        "from sklearn.model_selection import train_test_split\n",
        "import haiku as hk\n",
        "import optax\n",
        "import numpy as np\n",
        "\n",
        "config.update(\"jax_disable_jit\", False)\n",
        "\n",
        "# Define gravity\n",
        "g = - 9.81\n",
        "dt = 0.01\n",
        "data_points = 1024\n",
        "batch_size = 16\n",
        "total_time = data_points * dt\n",
        "gradient_updates = 20000"
      ]
    },
    {
      "cell_type": "code",
      "source": [
        "@jit\n",
        "def dy_dt(y, t, g):\n",
        "  # Create return array and unpack the values of y:\n",
        "\n",
        "  theta_1 = y[0]\n",
        "  theta_2 = y[1]\n",
        "  omega_1 = y[2]\n",
        "  omega_2 = y[3]\n",
        "\n",
        "  # Make the equations nicer by setting these:\n",
        "  s = sin(theta_1 - theta_2)\n",
        "  c = cos(theta_1 - theta_2)\n",
        "\n",
        "  # Derivative of the thetas are just the omegas:\n",
        "  dtheta1_dt = omega_1\n",
        "  dtheta2_dt = omega_2\n",
        "\n",
        "  # Derivative of the omegas:\n",
        "  domega1_dt = ( g * sin(theta_2) * c - s * ((omega_1 ** 2) * c + (omega_2 ** 2)) - 2 * g * sin(theta_1) ) / (1 + s ** 2)\n",
        "\n",
        "  domega2_dt = ( 2 * ( (omega_1 ** 2) * s - g * sin(theta_2) + g * sin(theta_1) * c ) + (omega_2 ** 2) * s * c ) / (1 + s ** 2)\n",
        "\n",
        "  dy_dt = jnp.array([dtheta1_dt, dtheta2_dt, domega1_dt, domega2_dt])\n",
        "  return dy_dt"
      ],
      "metadata": {
        "id": "qYRJCOSFe2KS"
      },
      "execution_count": 245,
      "outputs": []
    },
    {
      "cell_type": "code",
      "source": [
        "# Generate our initial datapoint.\n",
        "key, subkey = random.split(random.PRNGKey(int(time.time())))\n",
        "theta_1_init = random.uniform(key, minval = - pi, maxval = pi)\n",
        "theta_2_init = random.uniform(subkey, minval = - pi, maxval = pi)\n",
        "\n",
        "key, subkey = random.split(key)\n",
        "# omega_1_init = random.uniform(key, minval = -10, maxval = 10)\n",
        "# omega_2_init = random.uniform(key, minval = -10, maxval = 10)\n",
        "\n",
        "omega_1_init = 0\n",
        "omega_2_init = 0\n",
        "\n",
        "init = jnp.array([theta_1_init, theta_2_init, omega_1_init, omega_2_init])\n",
        "\n",
        "# And generate our time array:\n",
        "tsteps = jnp.linspace(0, int(total_time), data_points)"
      ],
      "metadata": {
        "id": "DuFRifkcxqEh"
      },
      "execution_count": 246,
      "outputs": []
    },
    {
      "cell_type": "code",
      "source": [
        "# Generate our data:\n",
        "generated_data = odeint(dy_dt, init, tsteps, g)\n",
        "\n",
        "plt.plot(generated_data[:, 0], generated_data[:, 1])\n",
        "\n",
        "theta_1 = generated_data[:, 0]\n",
        "theta_2 = generated_data[:, 1]"
      ],
      "metadata": {
        "id": "VlT_hRLlqAvG",
        "outputId": "415d2741-4dd7-4ee2-9e33-0e2599234263",
        "colab": {
          "base_uri": "https://localhost:8080/",
          "height": 430
        }
      },
      "execution_count": 247,
      "outputs": [
        {
          "output_type": "display_data",
          "data": {
            "text/plain": [
              "<Figure size 640x480 with 1 Axes>"
            ],
            "image/png": "[encoded data removed]"
          },
          "metadata": {}
        }
      ]
    },
    {
      "cell_type": "code",
      "source": [
        "# Normalise the angles by dividing by pi, and the velocity by dividing by 100.\n",
        "def modulo_pi(x):\n",
        "  return x % pi\n",
        "\n",
        "# Normalise our generated data. We do this by modulo-ing the angles by pi and then dividing bby pi, and dividing the angular velocities by 100.\n",
        "normalised_data = generated_data\n",
        "normalised_data = normalised_data.at[:,:2].apply(modulo_pi)\n",
        "normalised_data = normalised_data.at[:,:2].divide(pi)\n",
        "normalised_data = normalised_data.at[:,2:].divide(100)\n",
        "\n",
        "# Split the data. We need shuffle to be 0 to preserve the time series.\n",
        "x_train, x_test, y_train, y_test = train_test_split(tsteps, normalised_data, shuffle=False, stratify=None, random_state=42)"
      ],
      "metadata": {
        "id": "zJXcW076yN2N"
      },
      "execution_count": 248,
      "outputs": []
    },
    {
      "cell_type": "markdown",
      "source": [
        "# Build The Model"
      ],
      "metadata": {
        "id": "XjWXaS99tgB0"
      }
    },
    {
      "cell_type": "code",
      "source": [
        "# Define our dataset class. This allows us to batch our data when training.\n",
        "class Dataset:\n",
        "  \"\"\"An iterator over a numpy array, revealing batch_size elements at a time.\"\"\"\n",
        "  # Initialise our dataset class. It needs the full x and y values and a batch size to be initialised.\n",
        "  def __init__(self, x: jnp.array, y: jnp.array, batch_size: int):\n",
        "    self._x = x\n",
        "    self._y = y\n",
        "    self._batch_size = batch_size\n",
        "    self._length = self._x.shape[0]\n",
        "    # The id stores where the next datapoint should be taken from, so when initialised it should be 0.\n",
        "    self._idx = 0\n",
        "    if self._length % batch_size != 0:\n",
        "      msg = 'dataset size {} must be divisible by batch_size {}.'\n",
        "      raise ValueError(msg.format(self._length, batch_size))\n",
        "\n",
        "  # This is the function that gives us our next batch of data.\n",
        "  def __next__(self):\n",
        "    # Select the first and last datapoints in the batch. First will be the current value of the ID\n",
        "    start = self._idx\n",
        "    end = start + self._batch_size\n",
        "    # Select our data.\n",
        "    x, y = self._x[start:end], self._y[start:end]\n",
        "    # This resets us back to 0 once we reach the end of our data.\n",
        "    if end >= self._length:\n",
        "      end = end % self._length\n",
        "      # assert end == 0  # Guaranteed by ctor assertion.\n",
        "    self._idx = end\n",
        "    return x, y"
      ],
      "metadata": {
        "id": "Gd2Y9WtYxQcT"
      },
      "execution_count": 249,
      "outputs": []
    },
    {
      "cell_type": "code",
      "source": [
        "# Now that we have defined our dataset class, we can make our datasets:\n",
        "train_dataset = Dataset(x_train, y_train, batch_size)\n",
        "eval_dataset = Dataset(x_test, y_test, batch_size)"
      ],
      "metadata": {
        "id": "1XEhn7Goj8Cq"
      },
      "execution_count": 250,
      "outputs": []
    },
    {
      "cell_type": "code",
      "source": [
        "# Define a batch of data.\n",
        "class Batch(NamedTuple):\n",
        "  input: np.ndarray\n",
        "  output: np.ndarray\n",
        "\n",
        "# Define a training state, telling us what parameters we have and the state of the optimizer.\n",
        "class TrainingState(NamedTuple):\n",
        "  params: hk.Params\n",
        "  opt_state: optax.OptState"
      ],
      "metadata": {
        "id": "ZoB9o03CmvqU"
      },
      "execution_count": 251,
      "outputs": []
    },
    {
      "cell_type": "code",
      "source": [
        "# Define the neural network.\n",
        "def FeedForward(x):\n",
        "  mlp = hk.Sequential([\n",
        "      hk.Linear(10), jax.nn.relu,\n",
        "      hk.Linear(10), jnp.sinc,\n",
        "      hk.Linear(4),\n",
        "  ])\n",
        "  return mlp(x)\n",
        "\n",
        "# Define our network and optimiser.\n",
        "network = hk.without_apply_rng(hk.transform(FeedForward))\n",
        "optimiser = optax.adam(1e-2)"
      ],
      "metadata": {
        "id": "jveNOFup1cqm"
      },
      "execution_count": 258,
      "outputs": []
    },
    {
      "cell_type": "code",
      "source": [
        "# Define our mean squared error loss.\n",
        "# The jits are hashed out because if it is jitted it does not print the actual data, it just prints the datatype, which does not help when debugging.\n",
        "@jit\n",
        "def nn_predict(y, t, weights):\n",
        "  return network.apply(weights, y)\n",
        "\n",
        "@jit\n",
        "def MeanSquaredErrorLoss(weights, batch):\n",
        "  # Flatten our x inputs.\n",
        "  tsteps = batch[0].flatten()\n",
        "  ybatch = batch[1]\n",
        "\n",
        "  # Make our predictions.\n",
        "  preds = odeint(nn_predict, ybatch[0], tsteps, weights)\n",
        "\n",
        "  # This removes the fact that it is an array of arrays. Also, we do not need the initial value of 0.\n",
        "  preds = preds.squeeze()[1:]\n",
        "\n",
        "  return jnp.power(ybatch[1:,:2] - preds[:,:2], 2).mean()"
      ],
      "metadata": {
        "id": "1HoiXNA_2mzi"
      },
      "execution_count": 269,
      "outputs": []
    },
    {
      "cell_type": "code",
      "source": [
        "@jit\n",
        "def update(state: TrainingState, batch: Batch) -> TrainingState:\n",
        "  # This is how we define our stochastic gradient descent.\n",
        "\n",
        "  # Find grads of loss w.r.t parameters, on this batch of the data\n",
        "  grads = jax.grad(MeanSquaredErrorLoss)(state.params, batch)\n",
        "  # Get the updates and the new optimser state from this.\n",
        "  updates, opt_state = optimiser.update(grads, state.opt_state)\n",
        "  # Apply the updates to the parameters.\n",
        "  params = optax.apply_updates(state.params, updates)\n",
        "\n",
        "  #return the training state with the new parameters and the optimiser.\n",
        "  return TrainingState(params, opt_state)"
      ],
      "metadata": {
        "id": "9Qe0bcrc28Ln"
      },
      "execution_count": 264,
      "outputs": []
    },
    {
      "cell_type": "code",
      "source": [
        "#Initialising the parameters randomly.\n",
        "rng = jax.random.PRNGKey(12)\n",
        "initial_params = network.init(rng, y_train[1])\n",
        "\n",
        "# Initialise the optimiser and the define the state.\n",
        "initial_opt_state = optimiser.init(initial_params)\n",
        "state = TrainingState(initial_params, initial_opt_state)\n",
        "\n",
        "# Print the structure of the network.\n",
        "print(\"Weights Type : {}\\n\".format(type(initial_params)))\n",
        "\n",
        "for layer_name, weights in initial_params.items():\n",
        "    print(layer_name)\n",
        "    print(\"Weights : {}, Biases : {}\\n\".format(initial_params[layer_name][\"w\"].shape,initial_params[layer_name][\"b\"].shape))"
      ],
      "metadata": {
        "id": "dZm9BX5x2_D_",
        "outputId": "190b49b3-a829-4d2e-931c-e12787ef4331",
        "colab": {
          "base_uri": "https://localhost:8080/"
        }
      },
      "execution_count": 265,
      "outputs": [
        {
          "output_type": "stream",
          "name": "stdout",
          "text": [
            "Weights Type : <class 'dict'>\n",
            "\n",
            "linear\n",
            "Weights : (4, 10), Biases : (10,)\n",
            "\n",
            "linear_1\n",
            "Weights : (10, 10), Biases : (10,)\n",
            "\n",
            "linear_2\n",
            "Weights : (10, 4), Biases : (4,)\n",
            "\n"
          ]
        }
      ]
    },
    {
      "cell_type": "code",
      "source": [
        "\n",
        "# Training & evaluation loop.\n",
        "train_loss_list = []\n",
        "val_loss_list = []\n",
        "for step in range(gradient_updates):\n",
        "  # Do stochastic gradient descent on a batch of training examples.\n",
        "  state = update(state, next(train_dataset))\n",
        "\n",
        "  # Print the training and evaluation loss every 1000 time steps.\n",
        "  if step % 1000 == 0:\n",
        "    train_loss_list.append(MeanSquaredErrorLoss(state.params, next(train_dataset)))\n",
        "    val_loss_list.append(MeanSquaredErrorLoss(state.params, next(eval_dataset)))\n",
        "    print(\"Step {}: train loss {}, eval loss {}\".format(step, train_loss_list[-1], val_loss_list[-1]))\n",
        "\n",
        "plt.plot(train_loss_list, color=\"b\")\n",
        "plt.plot(val_loss_list, color=\"red\")"
      ],
      "metadata": {
        "id": "ThKKvvcr3BDP",
        "outputId": "4211a08e-7fe1-4170-9c86-8680ccc12489",
        "colab": {
          "base_uri": "https://localhost:8080/",
          "height": 373
        }
      },
      "execution_count": 266,
      "outputs": [
        {
          "output_type": "stream",
          "name": "stdout",
          "text": [
            "Step 0: train loss 0.010969147086143494, eval loss 0.009597529657185078\n",
            "Step 1000: train loss 0.10459291189908981, eval loss 0.017972303554415703\n",
            "Step 2000: train loss 0.049447592347860336, eval loss 0.27396321296691895\n",
            "Step 3000: train loss 0.0025945587549358606, eval loss 0.0004572591569740325\n",
            "Step 4000: train loss 0.0016025567892938852, eval loss 0.003309203777462244\n",
            "Step 5000: train loss 0.005925956182181835, eval loss 0.0008244943455792964\n"
          ]
        },
        {
          "output_type": "error",
          "ename": "KeyboardInterrupt",
          "evalue": "ignored",
          "traceback": [
            "\u001b[0;31m---------------------------------------------------------------------------\u001b[0m",
            "\u001b[0;31mKeyboardInterrupt\u001b[0m                         Traceback (most recent call last)",
            "\u001b[0;32m<ipython-input-266-8b5a28ed917c>\u001b[0m in \u001b[0;36m<cell line: 4>\u001b[0;34m()\u001b[0m\n\u001b[1;32m      4\u001b[0m \u001b[0;32mfor\u001b[0m \u001b[0mstep\u001b[0m \u001b[0;32min\u001b[0m \u001b[0mrange\u001b[0m\u001b[0;34m(\u001b[0m\u001b[0mgradient_updates\u001b[0m\u001b[0;34m)\u001b[0m\u001b[0;34m:\u001b[0m\u001b[0;34m\u001b[0m\u001b[0;34m\u001b[0m\u001b[0m\n\u001b[1;32m      5\u001b[0m   \u001b[0;31m# Do stochastic gradient descent on a batch of training examples.\u001b[0m\u001b[0;34m\u001b[0m\u001b[0;34m\u001b[0m\u001b[0m\n\u001b[0;32m----> 6\u001b[0;31m   \u001b[0mstate\u001b[0m \u001b[0;34m=\u001b[0m \u001b[0mupdate\u001b[0m\u001b[0;34m(\u001b[0m\u001b[0mstate\u001b[0m\u001b[0;34m,\u001b[0m \u001b[0mnext\u001b[0m\u001b[0;34m(\u001b[0m\u001b[0mtrain_dataset\u001b[0m\u001b[0;34m)\u001b[0m\u001b[0;34m)\u001b[0m\u001b[0;34m\u001b[0m\u001b[0;34m\u001b[0m\u001b[0m\n\u001b[0m\u001b[1;32m      7\u001b[0m \u001b[0;34m\u001b[0m\u001b[0m\n\u001b[1;32m      8\u001b[0m   \u001b[0;31m# Print the training and evaluation loss every 1000 time steps.\u001b[0m\u001b[0;34m\u001b[0m\u001b[0;34m\u001b[0m\u001b[0m\n",
            "\u001b[0;32m<string>\u001b[0m in \u001b[0;36m<lambda>\u001b[0;34m(_cls, count, mu, nu)\u001b[0m\n",
            "\u001b[0;31mKeyboardInterrupt\u001b[0m: "
          ]
        }
      ]
    },
    {
      "cell_type": "code",
      "source": [
        "generated_data = odeint(nn_predict, init, tsteps, state.params)\n",
        "plt.plot(normalised_data[:, 0], normalised_data[:, 1], color=\"red\", label=\"Truth\")\n",
        "plt.plot(generated_data[:, 0], generated_data[:, 1], color=\"blue\", label=\"Predicted\")\n"
      ],
      "metadata": {
        "id": "GsDw0VV2BK-7"
      },
      "execution_count": null,
      "outputs": []
    },
    {
      "cell_type": "markdown",
      "source": [
        "# Create animation of the pendulums"
      ],
      "metadata": {
        "id": "rfOB9ttM3E23"
      }
    },
    {
      "cell_type": "code",
      "source": [
        " # Computes a plot of the angles.\n",
        "\n",
        "plt.plot(theta_1, c='b')\n",
        "plt.plot(theta_2, c='r')\n",
        "\n",
        "plt.plot(theta_1, theta_2)"
      ],
      "metadata": {
        "colab": {
          "base_uri": "https://localhost:8080/",
          "height": 235
        },
        "id": "wWSxPMNZZsCN",
        "outputId": "a5fe6408-3bde-4a96-c755-e60410ccd552"
      },
      "execution_count": 81,
      "outputs": [
        {
          "output_type": "error",
          "ename": "NameError",
          "evalue": "ignored",
          "traceback": [
            "\u001b[0;31m---------------------------------------------------------------------------\u001b[0m",
            "\u001b[0;31mNameError\u001b[0m                                 Traceback (most recent call last)",
            "\u001b[0;32m<ipython-input-81-bdf1f75602e8>\u001b[0m in \u001b[0;36m<cell line: 3>\u001b[0;34m()\u001b[0m\n\u001b[1;32m      1\u001b[0m \u001b[0;31m# Computes a plot of the angles.\u001b[0m\u001b[0;34m\u001b[0m\u001b[0;34m\u001b[0m\u001b[0m\n\u001b[1;32m      2\u001b[0m \u001b[0;34m\u001b[0m\u001b[0m\n\u001b[0;32m----> 3\u001b[0;31m \u001b[0mplt\u001b[0m\u001b[0;34m.\u001b[0m\u001b[0mplot\u001b[0m\u001b[0;34m(\u001b[0m\u001b[0mtheta_1\u001b[0m\u001b[0;34m,\u001b[0m \u001b[0mc\u001b[0m\u001b[0;34m=\u001b[0m\u001b[0;34m'b'\u001b[0m\u001b[0;34m)\u001b[0m\u001b[0;34m\u001b[0m\u001b[0;34m\u001b[0m\u001b[0m\n\u001b[0m\u001b[1;32m      4\u001b[0m \u001b[0mplt\u001b[0m\u001b[0;34m.\u001b[0m\u001b[0mplot\u001b[0m\u001b[0;34m(\u001b[0m\u001b[0mtheta_2\u001b[0m\u001b[0;34m,\u001b[0m \u001b[0mc\u001b[0m\u001b[0;34m=\u001b[0m\u001b[0;34m'r'\u001b[0m\u001b[0;34m)\u001b[0m\u001b[0;34m\u001b[0m\u001b[0;34m\u001b[0m\u001b[0m\n\u001b[1;32m      5\u001b[0m \u001b[0;34m\u001b[0m\u001b[0m\n",
            "\u001b[0;31mNameError\u001b[0m: name 'theta_1' is not defined"
          ]
        }
      ]
    },
    {
      "cell_type": "markdown",
      "source": [
        "Code below will convert the data into a gif."
      ],
      "metadata": {
        "id": "MdfpoSvDceut"
      }
    },
    {
      "cell_type": "code",
      "source": [
        "# Convert to Cartesian coordinates of the two bob positions.\n",
        "x1 = sin(theta_1)\n",
        "y1 = cos(theta_1)\n",
        "x2 = x1 + sin(theta_2)\n",
        "y2 = y1 + cos(theta_2)\n",
        "\n",
        "# Plotted bob circle radius\n",
        "r = 0.05\n",
        "# Plot a trail of the m2 bob's position for the last trail_secs seconds.\n",
        "trail_secs = 1\n",
        "# This corresponds to max_trail time points.\n",
        "max_trail = int(trail_secs / dt)\n",
        "\n",
        "def make_plot(i):\n",
        "    # Plot and save an image of the double pendulum configuration for time\n",
        "    # point i.\n",
        "    # The pendulum rods.\n",
        "    ax.plot([0, x1[i], x2[i]], [0, y1[i], y2[i]], lw=2, c='k')\n",
        "    # Circles representing the anchor point of rod 1, and bobs 1 and 2.\n",
        "    c0 = Circle((0, 0), r/2, fc='k', zorder=10)\n",
        "    c1 = Circle((x1[i], y1[i]), r, fc='b', ec='b', zorder=10)\n",
        "    c2 = Circle((x2[i], y2[i]), r, fc='r', ec='r', zorder=10)\n",
        "    ax.add_patch(c0)\n",
        "    ax.add_patch(c1)\n",
        "    ax.add_patch(c2)\n",
        "\n",
        "    # The trail will be divided into ns segments and plotted as a fading line.\n",
        "    ns = 20\n",
        "    s = max_trail // ns\n",
        "\n",
        "    for j in range(ns):\n",
        "        imin = i - (ns-j)*s\n",
        "        if imin < 0:\n",
        "            continue\n",
        "        imax = imin + s + 1\n",
        "        # The fading looks better if we square the fractional length along the\n",
        "        # trail.\n",
        "        alpha = (j/ns)**2\n",
        "        ax.plot(x2[imin:imax], y2[imin:imax], c='r', solid_capstyle='butt',\n",
        "                lw=2, alpha=alpha)\n",
        "\n",
        "    # Centre the image on the fixed anchor point, and ensure the axes are equal\n",
        "    ax.set_xlim(-2-r, 2+r)\n",
        "    ax.set_ylim(-2-r, 2+r)\n",
        "    ax.set_aspect('equal', adjustable='box')\n",
        "    plt.axis('off')\n",
        "    plt.savefig('img{:04d}.png'.format(i//di), dpi=72)\n",
        "    plt.plot()\n",
        "    plt.cla()\n",
        "\n",
        "\n",
        "# Make an image every di time points, corresponding to a frame rate of fps\n",
        "# frames per second.\n",
        "# Frame rate, s-1\n",
        "fps = 10\n",
        "di = int(1/fps/dt)\n",
        "fig = plt.figure(figsize=(8.3333, 6.25), dpi=72)\n",
        "ax = fig.add_subplot(111)\n",
        "\n",
        "for i in range(0, tsteps.size, di):\n",
        "    print(i // di, '/', tsteps.size // di)\n",
        "    make_plot(i)"
      ],
      "metadata": {
        "id": "Da-1HEW4ocKl",
        "colab": {
          "base_uri": "https://localhost:8080/",
          "height": 1000
        },
        "outputId": "f96fdead-d3c0-471e-ee55-eb30d213c021"
      },
      "execution_count": 124,
      "outputs": [
        {
          "output_type": "stream",
          "name": "stdout",
          "text": [
            "0 / 102\n",
            "1 / 102\n",
            "2 / 102\n",
            "3 / 102\n",
            "4 / 102\n",
            "5 / 102\n",
            "6 / 102\n",
            "7 / 102\n",
            "8 / 102\n",
            "9 / 102\n",
            "10 / 102\n",
            "11 / 102\n",
            "12 / 102\n",
            "13 / 102\n",
            "14 / 102\n",
            "15 / 102\n",
            "16 / 102\n",
            "17 / 102\n",
            "18 / 102\n",
            "19 / 102\n",
            "20 / 102\n",
            "21 / 102\n",
            "22 / 102\n",
            "23 / 102\n",
            "24 / 102\n",
            "25 / 102\n",
            "26 / 102\n",
            "27 / 102\n",
            "28 / 102\n",
            "29 / 102\n",
            "30 / 102\n",
            "31 / 102\n",
            "32 / 102\n",
            "33 / 102\n",
            "34 / 102\n",
            "35 / 102\n",
            "36 / 102\n",
            "37 / 102\n",
            "38 / 102\n",
            "39 / 102\n",
            "40 / 102\n",
            "41 / 102\n",
            "42 / 102\n",
            "43 / 102\n",
            "44 / 102\n",
            "45 / 102\n",
            "46 / 102\n",
            "47 / 102\n",
            "48 / 102\n",
            "49 / 102\n",
            "50 / 102\n",
            "51 / 102\n",
            "52 / 102\n",
            "53 / 102\n",
            "54 / 102\n",
            "55 / 102\n",
            "56 / 102\n",
            "57 / 102\n",
            "58 / 102\n",
            "59 / 102\n",
            "60 / 102\n",
            "61 / 102\n",
            "62 / 102\n",
            "63 / 102\n",
            "64 / 102\n",
            "65 / 102\n",
            "66 / 102\n",
            "67 / 102\n",
            "68 / 102\n",
            "69 / 102\n",
            "70 / 102\n",
            "71 / 102\n",
            "72 / 102\n",
            "73 / 102\n",
            "74 / 102\n",
            "75 / 102\n",
            "76 / 102\n",
            "77 / 102\n",
            "78 / 102\n",
            "79 / 102\n",
            "80 / 102\n",
            "81 / 102\n",
            "82 / 102\n",
            "83 / 102\n",
            "84 / 102\n",
            "85 / 102\n",
            "86 / 102\n",
            "87 / 102\n",
            "88 / 102\n",
            "89 / 102\n",
            "90 / 102\n",
            "91 / 102\n",
            "92 / 102\n",
            "93 / 102\n",
            "94 / 102\n",
            "95 / 102\n",
            "96 / 102\n",
            "97 / 102\n",
            "98 / 102\n",
            "99 / 102\n",
            "100 / 102\n",
            "101 / 102\n",
            "102 / 102\n"
          ]
        },
        {
          "output_type": "display_data",
          "data": {
            "text/plain": [
              "<Figure size 599.998x450 with 1 Axes>"
            ],
            "image/png": "[encoded data removed]"
          },
          "metadata": {}
        }
      ]
    },
    {
      "cell_type": "code",
      "source": [
        "frames = []\n",
        "for i in range(int(tsteps.size) // di):\n",
        "  image = imageio.v2.imread(f'img{i:04}.png')\n",
        "  frames.append(image)\n",
        "\n",
        "imageio\n",
        "imageio.mimsave('./example.gif', # output gif\n",
        "                frames,          # array of input frames\n",
        "                fps = 10)         # optional: frames per second \"\"\"\n",
        "\n"
      ],
      "metadata": {
        "id": "cp42dUo572Cc"
      },
      "execution_count": 125,
      "outputs": []
    },
    {
      "cell_type": "code",
      "source": [],
      "metadata": {
        "id": "Nk8eGwnPB-xw"
      },
      "execution_count": null,
      "outputs": []
    }
  ]
}