{
  "nbformat": 4,
  "nbformat_minor": 0,
  "metadata": {
    "colab": {
      "provenance": [],
      "authorship_tag": "ABX9TyNgbwxpA7urB4dI9AwH0G0J",
      "include_colab_link": true
    },
    "kernelspec": {
      "name": "python3",
      "display_name": "Python 3"
    },
    "language_info": {
      "name": "python"
    }
  },
  "cells": [
    {
      "cell_type": "markdown",
      "metadata": {
        "id": "view-in-github",
        "colab_type": "text"
      },
      "source": [
        "<a href=\"https://colab.research.google.com/github/jakedorman64/internship/blob/main/Regression_with_Haiku.ipynb\" target=\"_parent\"><img src=\"https://colab.research.google.com/assets/colab-badge.svg\" alt=\"Open In Colab\"/></a>"
      ]
    },
    {
      "cell_type": "markdown",
      "source": [
        "Important links:\n",
        "https://github.com/deepmind/dm-haiku/blob/main/examples/mnist.py\n",
        "https://notebook.community/deepmind/dm-haiku/examples/haiku_lstms"
      ],
      "metadata": {
        "id": "MNE0K1-Y6jrw"
      }
    },
    {
      "cell_type": "code",
      "source": [
        "!pip install git+https://github.com/deepmind/dm-haiku"
      ],
      "metadata": {
        "colab": {
          "base_uri": "https://localhost:8080/"
        },
        "id": "5gxcKzugoy-H",
        "outputId": "d53a4f6c-d479-4cc7-a081-9b15e60a17e1"
      },
      "execution_count": 125,
      "outputs": [
        {
          "output_type": "stream",
          "name": "stdout",
          "text": [
            "Looking in indexes: https://pypi.org/simple, https://us-python.pkg.dev/colab-wheels/public/simple/\n",
            "Collecting git+https://github.com/deepmind/dm-haiku\n",
            "  Cloning https://github.com/deepmind/dm-haiku to /tmp/pip-req-build-7n4e7yhy\n",
            "  Running command git clone --filter=blob:none --quiet https://github.com/deepmind/dm-haiku /tmp/pip-req-build-7n4e7yhy\n",
            "  Resolved https://github.com/deepmind/dm-haiku to commit 4b0401225221c2fba092903edfab15fc6e102642\n",
            "  Preparing metadata (setup.py) ... \u001b[?25l\u001b[?25hdone\n",
            "Requirement already satisfied: absl-py>=0.7.1 in /usr/local/lib/python3.10/dist-packages (from dm-haiku==0.0.10.dev0) (1.4.0)\n",
            "Requirement already satisfied: jmp>=0.0.2 in /usr/local/lib/python3.10/dist-packages (from dm-haiku==0.0.10.dev0) (0.0.4)\n",
            "Requirement already satisfied: numpy>=1.18.0 in /usr/local/lib/python3.10/dist-packages (from dm-haiku==0.0.10.dev0) (1.22.4)\n",
            "Requirement already satisfied: tabulate>=0.8.9 in /usr/local/lib/python3.10/dist-packages (from dm-haiku==0.0.10.dev0) (0.8.10)\n"
          ]
        }
      ]
    },
    {
      "cell_type": "code",
      "execution_count": 256,
      "metadata": {
        "id": "O6davFRsot8X"
      },
      "outputs": [],
      "source": [
        "from typing import Iterator, NamedTuple\n",
        "\n",
        "from absl import app\n",
        "import haiku as hk\n",
        "import jax\n",
        "import matplotlib.pyplot as plt\n",
        "import jax.numpy as jnp\n",
        "from jax import value_and_grad, jit, vmap, grad, random\n",
        "from jax.numpy import pi, sin, cos\n",
        "import time\n",
        "import numpy as np\n",
        "import optax\n",
        "from sklearn.model_selection import train_test_split"
      ]
    },
    {
      "cell_type": "code",
      "source": [
        "# Create our random keys\n",
        "key, subkey = random.split(random.PRNGKey(int(time.time())))\n",
        "learning_rate = 0.01\n",
        "epochs = 10000\n",
        "datapoints = 1024\n",
        "batch_size = 8\n",
        "\n",
        "# Make a function to initialise our data.\n",
        "def generate_data(t):\n",
        "  return t + sin(t) + 0.3 * random.normal(subkey, shape=(datapoints,))\n",
        "\n",
        "# Generate inputs and targets\n",
        "x_truth = random.uniform(key, minval=0, maxval=10, shape=(datapoints,))\n",
        "y_truth = generate_data(x_truth)"
      ],
      "metadata": {
        "id": "FoUTcp7touyf"
      },
      "execution_count": 257,
      "outputs": []
    },
    {
      "cell_type": "code",
      "source": [
        "# Graph targets against actual curve.\n",
        "plt.scatter(x_truth, y_truth, s=0.1, color='green')\n",
        "fine_inputs = jnp.reshape(jnp.linspace(0, 10, 1000), (1000, 1))\n",
        "plt.plot(fine_inputs, fine_inputs + sin(fine_inputs), lw=0.5, color='blue')"
      ],
      "metadata": {
        "colab": {
          "base_uri": "https://localhost:8080/",
          "height": 447
        },
        "id": "iwSEjKc_pBHx",
        "outputId": "2b3e8038-f3f4-46a6-94ab-dbf637a54e34"
      },
      "execution_count": 258,
      "outputs": [
        {
          "output_type": "execute_result",
          "data": {
            "text/plain": [
              "[<matplotlib.lines.Line2D at 0x7f0f62e25510>]"
            ]
          },
          "metadata": {},
          "execution_count": 258
        },
        {
          "output_type": "display_data",
          "data": {
            "text/plain": [
              "<Figure size 640x480 with 1 Axes>"
            ],
            "image/png": "[encoded data removed]"
          },
          "metadata": {}
        }
      ]
    },
    {
      "cell_type": "code",
      "source": [
        "# Normalise our data:\n",
        "x_truth = (x_truth - jnp.mean(x_truth)) / jnp.std(x_truth)\n",
        "y_truth = (y_truth - jnp.mean(y_truth)) / jnp.std(y_truth)\n",
        "\n",
        "# Split the data:\n",
        "x_train, x_test, y_train, y_test = train_test_split(x_truth, y_truth, random_state=42)\n",
        "\n",
        "# Data needs to be in this format to go into the model.\n",
        "x_train = x_train.reshape(len(x_train),1)\n",
        "x_test = x_test.reshape(len(x_test),1)"
      ],
      "metadata": {
        "id": "3XCO9AQKs_kE"
      },
      "execution_count": 259,
      "outputs": []
    },
    {
      "cell_type": "code",
      "source": [
        "# Define our dataset class. This allows us to batch our data when training.\n",
        "class Dataset:\n",
        "  \"\"\"An iterator over a numpy array, revealing batch_size elements at a time.\"\"\"\n",
        "  # Initialise our dataset class. It needs the full x and y values and a batch size to be initialised.\n",
        "  def __init__(self, x: jnp.array, y: jnp.array, batch_size: int):\n",
        "    self._x = x\n",
        "    self._y = y\n",
        "    self._batch_size = batch_size\n",
        "    self._length = self._x.shape[0]\n",
        "    # The id stores where the next datapoint should be taken from, so when initialised it should be 0.\n",
        "    self._idx = 0\n",
        "    if self._length % batch_size != 0:\n",
        "      msg = 'dataset size {} must be divisible by batch_size {}.'\n",
        "      raise ValueError(msg.format(self._length, batch_size))\n",
        "\n",
        "  # This is the function that gives us our next batch of data.\n",
        "  def __next__(self):\n",
        "    # Select the first and last datapoints in the batch. First will be the current value of the ID\n",
        "    start = self._idx\n",
        "    end = start + self._batch_size\n",
        "    # Select our data.\n",
        "    x, y = self._x[start:end], self._y[start:end]\n",
        "    # This resets us back to 0 once we reach the end of our data.\n",
        "    if end >= self._length:\n",
        "      end = end % self._length\n",
        "      # assert end == 0  # Guaranteed by ctor assertion.\n",
        "    self._idx = end\n",
        "    return x, y"
      ],
      "metadata": {
        "id": "mS0cNfuvp5qh"
      },
      "execution_count": 260,
      "outputs": []
    },
    {
      "cell_type": "code",
      "source": [
        "# Now that we have defined our dataset class, we can make our datasets:\n",
        "train_dataset = Dataset(x_train, y_train, batch_size)\n",
        "eval_dataset = Dataset(x_test, y_test, batch_size)"
      ],
      "metadata": {
        "id": "9y-J2zhJ6K44"
      },
      "execution_count": 261,
      "outputs": []
    },
    {
      "cell_type": "markdown",
      "source": [],
      "metadata": {
        "id": "hmri9way6XMP"
      }
    },
    {
      "cell_type": "code",
      "source": [
        "# Define a batch of data.\n",
        "class Batch(NamedTuple):\n",
        "  input: np.ndarray\n",
        "  output: np.ndarray\n",
        "\n",
        "# Define a training state, telling us what parameters we have and the state of the optimizer.\n",
        "class TrainingState(NamedTuple):\n",
        "  params: hk.Params\n",
        "  opt_state: optax.OptState"
      ],
      "metadata": {
        "id": "VcCREIHVu-qj"
      },
      "execution_count": 262,
      "outputs": []
    },
    {
      "cell_type": "code",
      "source": [
        "# Define the neural network.\n",
        "def FeedForward(x):\n",
        "  mlp = hk.Sequential([\n",
        "      hk.Linear(10), jax.nn.relu,\n",
        "      hk.Linear(10), jax.nn.relu,\n",
        "      hk.Linear(1),\n",
        "  ])\n",
        "  return mlp(x)\n",
        "\n",
        "# Define our network and optimiser.\n",
        "network = hk.without_apply_rng(hk.transform(FeedForward))\n",
        "optimiser = optax.adam(1e-3)"
      ],
      "metadata": {
        "id": "bxM-XnmipX7L"
      },
      "execution_count": 263,
      "outputs": []
    },
    {
      "cell_type": "code",
      "source": [
        "# Define our mean squared error loss.\n",
        "def MeanSquaredErrorLoss(weights, batch):\n",
        "  preds = network.apply(weights, batch[0])\n",
        "\n",
        "  # This removes the fact that it is an array of arrays.\n",
        "  preds = preds.squeeze()\n",
        "  return jnp.power(batch[1] - preds, 2).mean()"
      ],
      "metadata": {
        "id": "quDdmHFK1ntz"
      },
      "execution_count": 264,
      "outputs": []
    },
    {
      "cell_type": "code",
      "source": [
        "@jax.jit\n",
        "def update(state: TrainingState, batch: Batch) -> TrainingState:\n",
        "  # This is how we define our stochastic gradient descent.\n",
        "\n",
        "  # Find grads of loss w.r.t parameters, on this batch of the data.\n",
        "  grads = jax.grad(MeanSquaredErrorLoss)(state.params, batch)\n",
        "  # Get the updates and the new optimser state from this.\n",
        "  updates, opt_state = optimiser.update(grads, state.opt_state)\n",
        "  # Apply the updates to the parameters.\n",
        "  params = optax.apply_updates(state.params, updates)\n",
        "\n",
        "  #return the training state with the new parameters and the optimiser.\n",
        "  return TrainingState(params, opt_state)\n"
      ],
      "metadata": {
        "id": "20WExEur08Hb"
      },
      "execution_count": 265,
      "outputs": []
    },
    {
      "cell_type": "code",
      "source": [
        "#Initialising the parameters randomly.\n",
        "rng = jax.random.PRNGKey(12)\n",
        "initial_params = network.init(rng, x_train[:1])\n",
        "\n",
        "\n",
        "# Initialise the optimiser and the define the state.\n",
        "initial_opt_state = optimiser.init(initial_params)\n",
        "state = TrainingState(initial_params, initial_opt_state)\n",
        "\n",
        "# Print the structure of the network.\n",
        "print(\"Weights Type : {}\\n\".format(type(initial_params)))\n",
        "\n",
        "for layer_name, weights in initial_params.items():\n",
        "    print(layer_name)\n",
        "    print(\"Weights : {}, Biases : {}\\n\".format(initial_params[layer_name][\"w\"].shape,initial_params[layer_name][\"b\"].shape))\n"
      ],
      "metadata": {
        "colab": {
          "base_uri": "https://localhost:8080/"
        },
        "id": "ZZT5qdV2xbPD",
        "outputId": "b5fed70b-05b8-4a7a-a885-10dab3e08e81"
      },
      "execution_count": 266,
      "outputs": [
        {
          "output_type": "stream",
          "name": "stdout",
          "text": [
            "Weights Type : <class 'dict'>\n",
            "\n",
            "linear\n",
            "Weights : (1, 10), Biases : (10,)\n",
            "\n",
            "linear_1\n",
            "Weights : (10, 10), Biases : (10,)\n",
            "\n",
            "linear_2\n",
            "Weights : (10, 1), Biases : (1,)\n",
            "\n"
          ]
        }
      ]
    },
    {
      "cell_type": "code",
      "source": [
        "# Training & evaluation loop.\n",
        "for step in range(epochs):\n",
        "  # Do stochastic gradient descent on a batch of training examples.\n",
        "  state = update(state, next(train_dataset))\n",
        "\n",
        "  # Print the training and evaluation loss every 1000 time steps.\n",
        "  if step % 1000 == 0:\n",
        "    train_loss = MeanSquaredErrorLoss(state.params, next(train_dataset))\n",
        "    eval_loss = MeanSquaredErrorLoss(state.params, next(eval_dataset))\n",
        "    print(\"Step {}: train loss {}, eval loss {}\".format(step, train_loss, eval_loss))"
      ],
      "metadata": {
        "id": "VH_ABnPT0NWn",
        "colab": {
          "base_uri": "https://localhost:8080/"
        },
        "outputId": "e158f292-c255-4831-e415-70adb18760cb"
      },
      "execution_count": 267,
      "outputs": [
        {
          "output_type": "stream",
          "name": "stdout",
          "text": [
            "Step 0: train loss 0.5752270817756653, eval loss 0.43210145831108093\n",
            "Step 1000: train loss 0.007511583622545004, eval loss 0.013857126235961914\n",
            "Step 2000: train loss 0.006851112470030785, eval loss 0.014502566307783127\n",
            "Step 3000: train loss 0.01547936163842678, eval loss 0.014616955071687698\n",
            "Step 4000: train loss 0.0028919996693730354, eval loss 0.02226363494992256\n",
            "Step 5000: train loss 0.010348854586482048, eval loss 0.014129525981843472\n",
            "Step 6000: train loss 0.018423886969685555, eval loss 0.0139158945530653\n",
            "Step 7000: train loss 0.018976867198944092, eval loss 0.010846491903066635\n",
            "Step 8000: train loss 0.009305406361818314, eval loss 0.008545848540961742\n",
            "Step 9000: train loss 0.009680884890258312, eval loss 0.01696246862411499\n"
          ]
        }
      ]
    },
    {
      "cell_type": "code",
      "source": [
        "# Graph our prediction against the actual curve and the testing data\n",
        "plt.scatter(x_truth, y_truth, s=0.1, color='green')\n",
        "fine_inputs = jnp.reshape(jnp.linspace(-2, 2, 10000), (10000, 1))\n",
        "plt.plot(fine_inputs, network.apply(state.params, fine_inputs), color='red', label=\"Predicted\")\n",
        "plt.legend()"
      ],
      "metadata": {
        "id": "8Dbh7c46X5gt",
        "colab": {
          "base_uri": "https://localhost:8080/",
          "height": 447
        },
        "outputId": "924849c1-ce12-4b5a-ba21-3c67d1f2f377"
      },
      "execution_count": 268,
      "outputs": [
        {
          "output_type": "execute_result",
          "data": {
            "text/plain": [
              "<matplotlib.legend.Legend at 0x7f0f64f80490>"
            ]
          },
          "metadata": {},
          "execution_count": 268
        },
        {
          "output_type": "display_data",
          "data": {
            "text/plain": [
              "<Figure size 640x480 with 1 Axes>"
            ],
            "image/png": "[encoded data removed]"
          },
          "metadata": {}
        }
      ]
    },
    {
      "cell_type": "code",
      "source": [],
      "metadata": {
        "id": "Z9mdn2BjrO9f"
      },
      "execution_count": 255,
      "outputs": []
    }
  ]
}