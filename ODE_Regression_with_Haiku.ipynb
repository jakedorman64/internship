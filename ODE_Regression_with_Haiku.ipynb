{
  "cells": [
    {
      "cell_type": "markdown",
      "metadata": {
        "id": "view-in-github",
        "colab_type": "text"
      },
      "source": [
        "<a href=\"https://colab.research.google.com/github/jakedorman64/internship/blob/main/ODE_Regression_with_Haiku.ipynb\" target=\"_parent\"><img src=\"https://colab.research.google.com/assets/colab-badge.svg\" alt=\"Open In Colab\"/></a>"
      ]
    },
    {
      "cell_type": "markdown",
      "metadata": {
        "id": "MNE0K1-Y6jrw"
      },
      "source": [
        "Important links:\n",
        "https://github.com/deepmind/dm-haiku/blob/main/examples/mnist.py\n",
        "https://notebook.community/deepmind/dm-haiku/examples/haiku_lstms"
      ]
    },
    {
      "cell_type": "code",
      "execution_count": 1,
      "metadata": {
        "colab": {
          "base_uri": "https://localhost:8080/"
        },
        "id": "5gxcKzugoy-H",
        "outputId": "ace165eb-fa1d-4ca2-e98b-8502c79a0efd"
      },
      "outputs": [
        {
          "output_type": "stream",
          "name": "stdout",
          "text": [
            "Looking in indexes: https://pypi.org/simple, https://us-python.pkg.dev/colab-wheels/public/simple/\n",
            "Collecting git+https://github.com/deepmind/dm-haiku\n",
            "  Cloning https://github.com/deepmind/dm-haiku to /tmp/pip-req-build-dvv2avxl\n",
            "  Running command git clone --filter=blob:none --quiet https://github.com/deepmind/dm-haiku /tmp/pip-req-build-dvv2avxl\n",
            "  Resolved https://github.com/deepmind/dm-haiku to commit 4b0401225221c2fba092903edfab15fc6e102642\n",
            "  Preparing metadata (setup.py) ... \u001b[?25l\u001b[?25hdone\n",
            "Requirement already satisfied: absl-py>=0.7.1 in /usr/local/lib/python3.10/dist-packages (from dm-haiku==0.0.10.dev0) (1.4.0)\n",
            "Requirement already satisfied: jmp>=0.0.2 in /usr/local/lib/python3.10/dist-packages (from dm-haiku==0.0.10.dev0) (0.0.4)\n",
            "Requirement already satisfied: numpy>=1.18.0 in /usr/local/lib/python3.10/dist-packages (from dm-haiku==0.0.10.dev0) (1.22.4)\n",
            "Requirement already satisfied: tabulate>=0.8.9 in /usr/local/lib/python3.10/dist-packages (from dm-haiku==0.0.10.dev0) (0.8.10)\n"
          ]
        }
      ],
      "source": [
        "!pip install git+https://github.com/deepmind/dm-haiku"
      ]
    },
    {
      "cell_type": "code",
      "execution_count": 406,
      "metadata": {
        "id": "O6davFRsot8X"
      },
      "outputs": [],
      "source": [
        "from typing import Iterator, NamedTuple\n",
        "\n",
        "import pdb\n",
        "from absl import app\n",
        "import haiku as hk\n",
        "import jax\n",
        "import matplotlib.pyplot as plt\n",
        "import jax.numpy as jnp\n",
        "from jax import value_and_grad, jit, vmap, grad, random, make_jaxpr\n",
        "from jax.numpy import pi, sin, cos\n",
        "from jax.experimental.ode import odeint\n",
        "from jax.config import config\n",
        "import scipy as sci\n",
        "import time\n",
        "import numpy as np\n",
        "import optax\n",
        "from sklearn.model_selection import train_test_split\n",
        "\n",
        "config.update(\"jax_enable_x64\", True)\n",
        "config.update(\"jax_debug_nans\", True)"
      ]
    },
    {
      "cell_type": "code",
      "execution_count": 407,
      "metadata": {
        "id": "FoUTcp7touyf"
      },
      "outputs": [],
      "source": [
        "# Create our random keys, for data generation.\n",
        "key, subkey = random.split(random.PRNGKey(int(time.time())))\n",
        "gradient_updates = 15000\n",
        "datapoints = 1024\n",
        "batch_size = 8\n",
        "\n",
        "# Make a function to create our datapoints.\n",
        "def generate_data(t):\n",
        "  return t + sin(t) + 0.3 * random.normal(subkey, shape=(datapoints,))\n",
        "\n",
        "# Generate inputs and targets\n",
        "x_truth = random.uniform(key, minval=0, maxval=10, shape=(datapoints,))\n",
        "y_truth = generate_data(x_truth)"
      ]
    },
    {
      "cell_type": "code",
      "execution_count": 408,
      "metadata": {
        "id": "iwSEjKc_pBHx",
        "colab": {
          "base_uri": "https://localhost:8080/",
          "height": 447
        },
        "outputId": "e1863a10-0155-4228-a8ce-742d8fc5e755"
      },
      "outputs": [
        {
          "output_type": "execute_result",
          "data": {
            "text/plain": [
              "[<matplotlib.lines.Line2D at 0x7f7dbdb58520>]"
            ]
          },
          "metadata": {},
          "execution_count": 408
        },
        {
          "output_type": "display_data",
          "data": {
            "text/plain": [
              "<Figure size 640x480 with 1 Axes>"
            ],
            "image/png": "[encoded data removed]"
          },
          "metadata": {}
        }
      ],
      "source": [
        "# Graph targets against actual curve.\n",
        "plt.scatter(x_truth, y_truth, s=0.1, color='green')\n",
        "fine_inputs = jnp.reshape(jnp.linspace(0, 10, 1000), (1000, 1))\n",
        "plt.plot(fine_inputs, fine_inputs + sin(fine_inputs), lw=0.5, color='blue')"
      ]
    },
    {
      "cell_type": "code",
      "execution_count": 409,
      "metadata": {
        "id": "3XCO9AQKs_kE"
      },
      "outputs": [],
      "source": [
        "# Normalise our data:\n",
        "x_truth = (x_truth - jnp.mean(x_truth)) / jnp.std(x_truth)\n",
        "y_truth = (y_truth - jnp.mean(y_truth)) / jnp.std(y_truth)\n",
        "\n",
        "# Split the data:\n",
        "x_train, x_test, y_train, y_test = train_test_split(x_truth, y_truth, random_state=42)\n",
        "\n",
        "# Data needs to be in this format to go into the model.\n",
        "x_train = x_train.reshape(len(x_train),1)\n",
        "x_test = x_test.reshape(len(x_test),1)"
      ]
    },
    {
      "cell_type": "code",
      "execution_count": 410,
      "metadata": {
        "id": "mS0cNfuvp5qh"
      },
      "outputs": [],
      "source": [
        "# Define our dataset class. This allows us to batch our data when training.\n",
        "class Dataset:\n",
        "  \"\"\"An iterator over a numpy array, revealing batch_size elements at a time.\"\"\"\n",
        "  # Initialise our dataset class. It needs the full x and y values and a batch size to be initialised.\n",
        "  def __init__(self, x: jnp.array, y: jnp.array, batch_size: int):\n",
        "    self._x = x\n",
        "    self._y = y\n",
        "    self._batch_size = batch_size\n",
        "    self._length = self._x.shape[0]\n",
        "    # The id stores where the next datapoint should be taken from, so when initialised it should be 0.\n",
        "    self._idx = 0\n",
        "    if self._length % batch_size != 0:\n",
        "      msg = 'dataset size {} must be divisible by batch_size {}.'\n",
        "      raise ValueError(msg.format(self._length, batch_size))\n",
        "\n",
        "  # This is the function that gives us our next batch of data.\n",
        "  def __next__(self):\n",
        "    # Select the first and last datapoints in the batch. First will be the current value of the ID\n",
        "    start = self._idx\n",
        "    end = start + self._batch_size\n",
        "    # Select our data.\n",
        "    x, y = self._x[start:end], self._y[start:end]\n",
        "    # This resets us back to 0 once we reach the end of our data.\n",
        "    if end >= self._length:\n",
        "      end = end % self._length\n",
        "      # assert end == 0  # Guaranteed by ctor assertion.\n",
        "    self._idx = end\n",
        "    return x, y"
      ]
    },
    {
      "cell_type": "code",
      "execution_count": 411,
      "metadata": {
        "id": "9y-J2zhJ6K44"
      },
      "outputs": [],
      "source": [
        "# Now that we have defined our dataset class, we can make our datasets:\n",
        "train_dataset = Dataset(x_train, y_train, batch_size)\n",
        "eval_dataset = Dataset(x_test, y_test, batch_size)"
      ]
    },
    {
      "cell_type": "code",
      "execution_count": 412,
      "metadata": {
        "id": "VcCREIHVu-qj"
      },
      "outputs": [],
      "source": [
        "# Define a batch of data.\n",
        "class Batch(NamedTuple):\n",
        "  input: np.ndarray\n",
        "  output: np.ndarray\n",
        "\n",
        "# Define a training state, telling us what parameters we have and the state of the optimizer.\n",
        "class TrainingState(NamedTuple):\n",
        "  params: hk.Params\n",
        "  opt_state: optax.OptState"
      ]
    },
    {
      "cell_type": "code",
      "execution_count": 413,
      "metadata": {
        "id": "bxM-XnmipX7L"
      },
      "outputs": [],
      "source": [
        "# Define the neural network.\n",
        "def FeedForward(x):\n",
        "  mlp = hk.Sequential([\n",
        "      hk.Linear(10), jax.nn.relu,\n",
        "      hk.Linear(10), jax.nn.relu,\n",
        "      hk.Linear(1),\n",
        "  ])\n",
        "  return mlp(x)\n",
        "\n",
        "# Define our network and optimiser.\n",
        "network = hk.without_apply_rng(hk.transform(FeedForward))\n",
        "optimiser = optax.adam(1e-3)"
      ]
    },
    {
      "cell_type": "code",
      "execution_count": 435,
      "metadata": {
        "id": "quDdmHFK1ntz"
      },
      "outputs": [],
      "source": [
        "# Define our mean squared error loss.\n",
        "# The jits are hashed out because if it is jitted it does not print the actual data, it just prints the datatype, which does not help when debugging.\n",
        "@jit\n",
        "def dy_dx(y, x, weights):\n",
        "  return network.apply(weights, jnp.array([x]))\n",
        "\n",
        "@jit\n",
        "def MeanSquaredErrorLoss(weights, batch):\n",
        "  # Create the predictions of the y values.\n",
        "  # This adds our initial value, 0, for when we solve the ode.\n",
        "  print(batch)\n",
        "  xsteps = jnp.insert(batch[0], 0, 0).flatten()\n",
        "\n",
        "  preds = odeint(dy_dx, jnp.array([0.0]), xsteps, weights)\n",
        "\n",
        "  # This removes the fact that it is an array of arrays. Also, we do not need the initial value of 0.\n",
        "  preds = preds.squeeze()[1:]\n",
        "\n",
        "  # These are temporary, for debugging.\n",
        "  # print(\"WEIGHTS = \", weights)\n",
        "  # print(\"XSTEPS = \", xsteps)\n",
        "  # print(\"PREDS = \", preds)\n",
        "  # print(\"BATCH[1] = \", batch[1])\n",
        "  # print(\"OUTPUT = \", jnp.power(batch[1] - preds, 2).mean())\n",
        "  return jnp.power(batch[1] - preds, 2).mean()"
      ]
    },
    {
      "cell_type": "code",
      "execution_count": 439,
      "metadata": {
        "id": "20WExEur08Hb"
      },
      "outputs": [],
      "source": [
        "@jit\n",
        "def update(state: TrainingState, batch: Batch) -> TrainingState:\n",
        "  # This is how we define our stochastic gradient descent.\n",
        "\n",
        "  # Find grads of loss w.r.t parameters, on this batch of the data\n",
        "  #grads = jax.grad(MeanSquaredErrorLoss)(state.params, batch)\n",
        "\n",
        "  make_jaxpr(jax.grad(MeanSquaredErrorLoss))(state.params, batch)\n",
        "  # Get the updates and the new optimser state from this.\n",
        "  updates, opt_state = optimiser.update(grads, state.opt_state)\n",
        "  # Apply the updates to the parameters.\n",
        "  params = optax.apply_updates(state.params, updates)\n",
        "\n",
        "  #return the training state with the new parameters and the optimiser.\n",
        "  return TrainingState(params, opt_state)\n"
      ]
    },
    {
      "cell_type": "code",
      "execution_count": 440,
      "metadata": {
        "id": "ZZT5qdV2xbPD",
        "colab": {
          "base_uri": "https://localhost:8080/"
        },
        "outputId": "8f48226d-4ef9-4f68-db60-1a9d7994dc65"
      },
      "outputs": [
        {
          "output_type": "stream",
          "name": "stdout",
          "text": [
            "Weights Type : <class 'dict'>\n",
            "\n",
            "linear\n",
            "Weights : (1, 10), Biases : (10,)\n",
            "\n",
            "linear_1\n",
            "Weights : (10, 10), Biases : (10,)\n",
            "\n",
            "linear_2\n",
            "Weights : (10, 1), Biases : (1,)\n",
            "\n"
          ]
        }
      ],
      "source": [
        "#Initialising the parameters randomly.\n",
        "rng = jax.random.PRNGKey(11)\n",
        "initial_params = network.init(rng, x_train[:1])\n",
        "\n",
        "# Initialise the optimiser and the define the state.\n",
        "initial_opt_state = optimiser.init(initial_params)\n",
        "state = TrainingState(initial_params, initial_opt_state)\n",
        "\n",
        "# Print the structure of the network.\n",
        "print(\"Weights Type : {}\\n\".format(type(initial_params)))\n",
        "\n",
        "for layer_name, weights in initial_params.items():\n",
        "    print(layer_name)\n",
        "    print(\"Weights : {}, Biases : {}\\n\".format(initial_params[layer_name][\"w\"].shape,initial_params[layer_name][\"b\"].shape))"
      ]
    },
    {
      "cell_type": "code",
      "execution_count": 441,
      "metadata": {
        "id": "VH_ABnPT0NWn",
        "colab": {
          "base_uri": "https://localhost:8080/",
          "height": 501
        },
        "outputId": "a5aa7fd6-038b-4485-b7b5-3d4b03584b96"
      },
      "outputs": [
        {
          "output_type": "stream",
          "name": "stdout",
          "text": [
            "(Traced<ShapedArray(float64[8,1])>with<DynamicJaxprTrace(level=5/0)>, Traced<ShapedArray(float64[8])>with<DynamicJaxprTrace(level=5/0)>)\n"
          ]
        },
        {
          "output_type": "error",
          "ename": "TypeError",
          "evalue": "ignored",
          "traceback": [
            "\u001b[0;31m---------------------------------------------------------------------------\u001b[0m",
            "\u001b[0;31mTypeError\u001b[0m                                 Traceback (most recent call last)",
            "\u001b[0;32m<ipython-input-441-c26fc64b3a92>\u001b[0m in \u001b[0;36m<cell line: 4>\u001b[0;34m()\u001b[0m\n\u001b[1;32m      4\u001b[0m \u001b[0;32mfor\u001b[0m \u001b[0mstep\u001b[0m \u001b[0;32min\u001b[0m \u001b[0mrange\u001b[0m\u001b[0;34m(\u001b[0m\u001b[0mgradient_updates\u001b[0m\u001b[0;34m)\u001b[0m\u001b[0;34m:\u001b[0m\u001b[0;34m\u001b[0m\u001b[0;34m\u001b[0m\u001b[0m\n\u001b[1;32m      5\u001b[0m   \u001b[0;31m# Do stochastic gradient descent on a batch of training examples.\u001b[0m\u001b[0;34m\u001b[0m\u001b[0;34m\u001b[0m\u001b[0m\n\u001b[0;32m----> 6\u001b[0;31m   \u001b[0mstate\u001b[0m \u001b[0;34m=\u001b[0m \u001b[0mupdate\u001b[0m\u001b[0;34m(\u001b[0m\u001b[0mstate\u001b[0m\u001b[0;34m,\u001b[0m \u001b[0mnext\u001b[0m\u001b[0;34m(\u001b[0m\u001b[0mtrain_dataset\u001b[0m\u001b[0;34m)\u001b[0m\u001b[0;34m)\u001b[0m\u001b[0;34m\u001b[0m\u001b[0;34m\u001b[0m\u001b[0m\n\u001b[0m\u001b[1;32m      7\u001b[0m \u001b[0;34m\u001b[0m\u001b[0m\n\u001b[1;32m      8\u001b[0m   \u001b[0;31m# This is temporary, for debugging.\u001b[0m\u001b[0;34m\u001b[0m\u001b[0;34m\u001b[0m\u001b[0m\n",
            "    \u001b[0;31m[... skipping hidden 12 frame]\u001b[0m\n",
            "\u001b[0;32m<ipython-input-439-d1d7cd1a01dd>\u001b[0m in \u001b[0;36mupdate\u001b[0;34m(state, batch)\u001b[0m\n\u001b[1;32m      5\u001b[0m   \u001b[0;31m# Find grads of loss w.r.t parameters, on this batch of the data\u001b[0m\u001b[0;34m\u001b[0m\u001b[0;34m\u001b[0m\u001b[0m\n\u001b[1;32m      6\u001b[0m   \u001b[0;31m#grads = jax.grad(MeanSquaredErrorLoss)(state.params, batch)\u001b[0m\u001b[0;34m\u001b[0m\u001b[0;34m\u001b[0m\u001b[0m\n\u001b[0;32m----> 7\u001b[0;31m   \u001b[0mmake_jaxpr\u001b[0m\u001b[0;34m(\u001b[0m\u001b[0mjax\u001b[0m\u001b[0;34m.\u001b[0m\u001b[0mgrad\u001b[0m\u001b[0;34m(\u001b[0m\u001b[0mMeanSquaredErrorLoss\u001b[0m\u001b[0;34m)\u001b[0m\u001b[0;34m)\u001b[0m\u001b[0;34m(\u001b[0m\u001b[0mstate\u001b[0m\u001b[0;34m.\u001b[0m\u001b[0mparams\u001b[0m\u001b[0;34m,\u001b[0m \u001b[0mbatch\u001b[0m\u001b[0;34m)\u001b[0m\u001b[0;34m\u001b[0m\u001b[0;34m\u001b[0m\u001b[0m\n\u001b[0m\u001b[1;32m      8\u001b[0m   \u001b[0;31m# Get the updates and the new optimser state from this.\u001b[0m\u001b[0;34m\u001b[0m\u001b[0;34m\u001b[0m\u001b[0m\n\u001b[1;32m      9\u001b[0m   \u001b[0mupdates\u001b[0m\u001b[0;34m,\u001b[0m \u001b[0mopt_state\u001b[0m \u001b[0;34m=\u001b[0m \u001b[0moptimiser\u001b[0m\u001b[0;34m.\u001b[0m\u001b[0mupdate\u001b[0m\u001b[0;34m(\u001b[0m\u001b[0mgrads\u001b[0m\u001b[0;34m,\u001b[0m \u001b[0mstate\u001b[0m\u001b[0;34m.\u001b[0m\u001b[0mopt_state\u001b[0m\u001b[0;34m)\u001b[0m\u001b[0;34m\u001b[0m\u001b[0;34m\u001b[0m\u001b[0m\n",
            "    \u001b[0;31m[... skipping hidden 28 frame]\u001b[0m\n",
            "\u001b[0;32m<ipython-input-435-37608b675b0e>\u001b[0m in \u001b[0;36mMeanSquaredErrorLoss\u001b[0;34m(weights, batch)\u001b[0m\n\u001b[1;32m     14\u001b[0m   \u001b[0;31m# preds = odeint(dy_dx, jnp.array([0.0]), xsteps, weights)\u001b[0m\u001b[0;34m\u001b[0m\u001b[0;34m\u001b[0m\u001b[0m\n\u001b[1;32m     15\u001b[0m \u001b[0;34m\u001b[0m\u001b[0m\n\u001b[0;32m---> 16\u001b[0;31m   \u001b[0mpreds\u001b[0m \u001b[0;34m=\u001b[0m \u001b[0mmake_jaxpr\u001b[0m\u001b[0;34m(\u001b[0m\u001b[0modeint\u001b[0m\u001b[0;34m(\u001b[0m\u001b[0mdy_dx\u001b[0m\u001b[0;34m,\u001b[0m \u001b[0mjnp\u001b[0m\u001b[0;34m.\u001b[0m\u001b[0marray\u001b[0m\u001b[0;34m(\u001b[0m\u001b[0;34m[\u001b[0m\u001b[0;36m0.0\u001b[0m\u001b[0;34m]\u001b[0m\u001b[0;34m)\u001b[0m\u001b[0;34m,\u001b[0m \u001b[0mxsteps\u001b[0m\u001b[0;34m,\u001b[0m \u001b[0mweights\u001b[0m\u001b[0;34m)\u001b[0m\u001b[0;34m)\u001b[0m\u001b[0;34m\u001b[0m\u001b[0;34m\u001b[0m\u001b[0m\n\u001b[0m\u001b[1;32m     17\u001b[0m \u001b[0;34m\u001b[0m\u001b[0m\n\u001b[1;32m     18\u001b[0m \u001b[0;34m\u001b[0m\u001b[0m\n",
            "    \u001b[0;31m[... skipping hidden 1 frame]\u001b[0m\n",
            "\u001b[0;32m/usr/local/lib/python3.10/dist-packages/jax/_src/api_util.py\u001b[0m in \u001b[0;36mcheck_callable\u001b[0;34m(fun)\u001b[0m\n\u001b[1;32m    464\u001b[0m     \u001b[0;32mraise\u001b[0m \u001b[0mTypeError\u001b[0m\u001b[0;34m(\u001b[0m\u001b[0;34mf\"staticmethod arguments are not supported, got {fun}\"\u001b[0m\u001b[0;34m)\u001b[0m\u001b[0;34m\u001b[0m\u001b[0;34m\u001b[0m\u001b[0m\n\u001b[1;32m    465\u001b[0m   \u001b[0;32mif\u001b[0m \u001b[0;32mnot\u001b[0m \u001b[0mcallable\u001b[0m\u001b[0;34m(\u001b[0m\u001b[0mfun\u001b[0m\u001b[0;34m)\u001b[0m\u001b[0;34m:\u001b[0m\u001b[0;34m\u001b[0m\u001b[0;34m\u001b[0m\u001b[0m\n\u001b[0;32m--> 466\u001b[0;31m     \u001b[0;32mraise\u001b[0m \u001b[0mTypeError\u001b[0m\u001b[0;34m(\u001b[0m\u001b[0;34mf\"Expected a callable value, got {fun}\"\u001b[0m\u001b[0;34m)\u001b[0m\u001b[0;34m\u001b[0m\u001b[0;34m\u001b[0m\u001b[0m\n\u001b[0m\u001b[1;32m    467\u001b[0m   \u001b[0;32mif\u001b[0m \u001b[0m_isgeneratorfunction\u001b[0m\u001b[0;34m(\u001b[0m\u001b[0mfun\u001b[0m\u001b[0;34m)\u001b[0m\u001b[0;34m:\u001b[0m\u001b[0;34m\u001b[0m\u001b[0;34m\u001b[0m\u001b[0m\n\u001b[1;32m    468\u001b[0m     \u001b[0;32mraise\u001b[0m \u001b[0mTypeError\u001b[0m\u001b[0;34m(\u001b[0m\u001b[0;34mf\"Expected a function, got a generator function: {fun}\"\u001b[0m\u001b[0;34m)\u001b[0m\u001b[0;34m\u001b[0m\u001b[0;34m\u001b[0m\u001b[0m\n",
            "\u001b[0;31mTypeError\u001b[0m: Expected a callable value, got Traced<ShapedArray(float64[9,1])>with<DynamicJaxprTrace(level=5/0)>"
          ]
        }
      ],
      "source": [
        "# Training & evaluation loop.\n",
        "train_loss_list = []\n",
        "val_loss_list = []\n",
        "for step in range(gradient_updates):\n",
        "  # Do stochastic gradient descent on a batch of training examples.\n",
        "  state = update(state, next(train_dataset))\n",
        "\n",
        "  # This is temporary, for debugging.\n",
        "  if step == 1:\n",
        "    break\n",
        "  # Print the training and evaluation loss every 1000 time steps.\n",
        "  if step % 1000 == 0:\n",
        "    train_loss_list.append(MeanSquaredErrorLoss(state.params, next(train_dataset)))\n",
        "    val_loss_list.append(MeanSquaredErrorLoss(state.params, next(eval_dataset)))\n",
        "    print(\"Step {}: train loss {}, eval loss {}\".format(step, train_loss_list[-1], val_loss_list[-1]))\n",
        "\n",
        "plt.plot(train_loss_list, color=\"b\")\n",
        "plt.plot(val_loss_list, color=\"red\")"
      ]
    },
    {
      "cell_type": "code",
      "execution_count": 430,
      "metadata": {
        "id": "8Dbh7c46X5gt",
        "colab": {
          "base_uri": "https://localhost:8080/",
          "height": 447
        },
        "outputId": "9978c255-2808-4004-f8f0-8b175dae4494"
      },
      "outputs": [
        {
          "output_type": "execute_result",
          "data": {
            "text/plain": [
              "<matplotlib.legend.Legend at 0x7f7dc1cb2200>"
            ]
          },
          "metadata": {},
          "execution_count": 430
        },
        {
          "output_type": "display_data",
          "data": {
            "text/plain": [
              "<Figure size 640x480 with 1 Axes>"
            ],
            "image/png": "[encoded data removed]"
          },
          "metadata": {}
        }
      ],
      "source": [
        " # Graph our prediction against the actual curve and the testing data\n",
        "plt.scatter(x_truth, y_truth, s=0.1, color='green')\n",
        "fine_inputs = jnp.reshape(jnp.linspace(-2, 2, 10000), (10000, 1))\n",
        "plt.plot(fine_inputs, network.apply(state.params, fine_inputs), color='red', label=\"Predicted\")\n",
        "plt.legend()"
      ]
    },
    {
      "cell_type": "code",
      "source": [],
      "metadata": {
        "id": "fuB2JAeGPdyT"
      },
      "execution_count": null,
      "outputs": []
    }
  ],
  "metadata": {
    "colab": {
      "provenance": [],
      "authorship_tag": "ABX9TyPGnoMDJ1ajHRwnkQbybwCn",
      "include_colab_link": true
    },
    "kernelspec": {
      "display_name": "Python 3",
      "name": "python3"
    },
    "language_info": {
      "name": "python"
    }
  },
  "nbformat": 4,
  "nbformat_minor": 0
}