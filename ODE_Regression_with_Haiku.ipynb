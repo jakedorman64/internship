{
  "cells": [
    {
      "cell_type": "markdown",
      "metadata": {
        "id": "view-in-github",
        "colab_type": "text"
      },
      "source": [
        "<a href=\"https://colab.research.google.com/github/jakedorman64/internship/blob/main/ODE_Regression_with_Haiku.ipynb\" target=\"_parent\"><img src=\"https://colab.research.google.com/assets/colab-badge.svg\" alt=\"Open In Colab\"/></a>"
      ]
    },
    {
      "cell_type": "markdown",
      "metadata": {
        "id": "MNE0K1-Y6jrw"
      },
      "source": [
        "Important links:\n",
        "https://github.com/deepmind/dm-haiku/blob/main/examples/mnist.py\n",
        "https://notebook.community/deepmind/dm-haiku/examples/haiku_lstms"
      ]
    },
    {
      "cell_type": "code",
      "execution_count": 320,
      "metadata": {
        "colab": {
          "base_uri": "https://localhost:8080/"
        },
        "id": "5gxcKzugoy-H",
        "outputId": "e2dcadea-0b85-4f6d-8ed1-0c6346a5a646"
      },
      "outputs": [
        {
          "output_type": "stream",
          "name": "stdout",
          "text": [
            "Looking in indexes: https://pypi.org/simple, https://us-python.pkg.dev/colab-wheels/public/simple/\n",
            "Collecting git+https://github.com/deepmind/dm-haiku\n",
            "  Cloning https://github.com/deepmind/dm-haiku to /tmp/pip-req-build-jbnf4nm4\n",
            "  Running command git clone --filter=blob:none --quiet https://github.com/deepmind/dm-haiku /tmp/pip-req-build-jbnf4nm4\n",
            "  Resolved https://github.com/deepmind/dm-haiku to commit 4b0401225221c2fba092903edfab15fc6e102642\n",
            "  Preparing metadata (setup.py) ... \u001b[?25l\u001b[?25hdone\n",
            "Requirement already satisfied: absl-py>=0.7.1 in /usr/local/lib/python3.10/dist-packages (from dm-haiku==0.0.10.dev0) (1.4.0)\n",
            "Requirement already satisfied: jmp>=0.0.2 in /usr/local/lib/python3.10/dist-packages (from dm-haiku==0.0.10.dev0) (0.0.4)\n",
            "Requirement already satisfied: numpy>=1.18.0 in /usr/local/lib/python3.10/dist-packages (from dm-haiku==0.0.10.dev0) (1.22.4)\n",
            "Requirement already satisfied: tabulate>=0.8.9 in /usr/local/lib/python3.10/dist-packages (from dm-haiku==0.0.10.dev0) (0.8.10)\n"
          ]
        }
      ],
      "source": [
        "!pip install git+https://github.com/deepmind/dm-haiku"
      ]
    },
    {
      "cell_type": "code",
      "execution_count": 962,
      "metadata": {
        "id": "O6davFRsot8X"
      },
      "outputs": [],
      "source": [
        "from typing import Iterator, NamedTuple\n",
        "\n",
        "import pdb\n",
        "from absl import app\n",
        "import haiku as hk\n",
        "import jax\n",
        "import matplotlib.pyplot as plt\n",
        "import jax.numpy as jnp\n",
        "from jax import value_and_grad, jit, vmap, grad, random, make_jaxpr\n",
        "from jax.numpy import pi, sin, cos\n",
        "from jax.experimental.ode import odeint\n",
        "from jax.config import config\n",
        "import scipy as sci\n",
        "import time\n",
        "import numpy as np\n",
        "import optax\n",
        "from sklearn.model_selection import train_test_split\n",
        "\n",
        "config.update(\"jax_enable_x64\", True)\n",
        "config.update(\"jax_debug_nans\", False)\n",
        "config.update(\"jax_disable_jit\", True)"
      ]
    },
    {
      "cell_type": "code",
      "execution_count": 963,
      "metadata": {
        "id": "FoUTcp7touyf"
      },
      "outputs": [],
      "source": [
        "# Create our random keys, for data generation.\n",
        "key, subkey = random.split(random.PRNGKey(int(time.time())))\n",
        "gradient_updates = 15000\n",
        "datapoints = 1024\n",
        "batch_size = 8\n",
        "\n",
        "# Make a function to create our datapoints.\n",
        "def generate_data(t):\n",
        "  return t + sin(t) + 0.3 * random.normal(subkey, shape=(datapoints,))\n",
        "\n",
        "# Generate inputs and targets\n",
        "x_truth = random.uniform(key, minval=0, maxval=10, shape=(datapoints,))\n",
        "y_truth = generate_data(x_truth)"
      ]
    },
    {
      "cell_type": "code",
      "execution_count": 964,
      "metadata": {
        "id": "iwSEjKc_pBHx",
        "colab": {
          "base_uri": "https://localhost:8080/",
          "height": 447
        },
        "outputId": "9cb4723e-69e4-4afc-dbb3-d9f6d18bfed7"
      },
      "outputs": [
        {
          "output_type": "execute_result",
          "data": {
            "text/plain": [
              "[<matplotlib.lines.Line2D at 0x7f70f350ec20>]"
            ]
          },
          "metadata": {},
          "execution_count": 964
        },
        {
          "output_type": "display_data",
          "data": {
            "text/plain": [
              "<Figure size 640x480 with 1 Axes>"
            ],
            "image/png": "[encoded data removed]"
          },
          "metadata": {}
        }
      ],
      "source": [
        "# Graph targets against actual curve.\n",
        "plt.scatter(x_truth, y_truth, s=0.1, color='green')\n",
        "fine_inputs = jnp.reshape(jnp.linspace(0, 10, 1000), (1000, 1))\n",
        "plt.plot(fine_inputs, fine_inputs + sin(fine_inputs), lw=0.5, color='blue')"
      ]
    },
    {
      "cell_type": "code",
      "execution_count": 965,
      "metadata": {
        "id": "3XCO9AQKs_kE"
      },
      "outputs": [],
      "source": [
        "# Store our normalisation values for later:\n",
        "x_mean = jnp.mean(x_truth)\n",
        "x_std = jnp.std(x_truth)\n",
        "y_mean = jnp.mean(y_truth)\n",
        "y_std = jnp.std(y_truth)\n",
        "\n",
        "x_truth = (x_truth - x_mean) / x_std\n",
        "y_truth = (y_truth - y_mean) / y_std\n",
        "\n",
        "# When integrating, we need an initial condition. Normalising makes (0, 0) no longer in the line so instead we can use (0, y_centre) as the initial condition.\n",
        "y_centre = (sin(x_mean) + x_mean - y_mean)/ y_std\n",
        "\n",
        "# Split the data:\n",
        "x_train, x_test, y_train, y_test = train_test_split(x_truth, y_truth, random_state=42)\n",
        "\n",
        "# Data needs to be in this format to go into the model.\n",
        "x_train = x_train.reshape(len(x_train),1)\n",
        "x_test = x_test.reshape(len(x_test),1)"
      ]
    },
    {
      "cell_type": "code",
      "execution_count": 966,
      "metadata": {
        "id": "mS0cNfuvp5qh"
      },
      "outputs": [],
      "source": [
        "# Define our dataset class. This allows us to batch our data when training.\n",
        "class Dataset:\n",
        "  \"\"\"An iterator over a numpy array, revealing batch_size elements at a time.\"\"\"\n",
        "  # Initialise our dataset class. It needs the full x and y values and a batch size to be initialised.\n",
        "  def __init__(self, x: jnp.array, y: jnp.array, batch_size: int):\n",
        "    self._x = x\n",
        "    self._y = y\n",
        "    self._batch_size = batch_size\n",
        "    self._length = self._x.shape[0]\n",
        "    # The id stores where the next datapoint should be taken from, so when initialised it should be 0.\n",
        "    self._idx = 0\n",
        "    if self._length % batch_size != 0:\n",
        "      msg = 'dataset size {} must be divisible by batch_size {}.'\n",
        "      raise ValueError(msg.format(self._length, batch_size))\n",
        "\n",
        "  # This is the function that gives us our next batch of data.\n",
        "  def __next__(self):\n",
        "    # Select the first and last datapoints in the batch. First will be the current value of the ID\n",
        "    start = self._idx\n",
        "    end = start + self._batch_size\n",
        "    # Select our data.\n",
        "    x, y = self._x[start:end], self._y[start:end]\n",
        "    # This resets us back to 0 once we reach the end of our data.\n",
        "    if end >= self._length:\n",
        "      end = end % self._length\n",
        "      # assert end == 0  # Guaranteed by ctor assertion.\n",
        "    self._idx = end\n",
        "    return x, y"
      ]
    },
    {
      "cell_type": "code",
      "execution_count": 967,
      "metadata": {
        "id": "9y-J2zhJ6K44"
      },
      "outputs": [],
      "source": [
        "# Now that we have defined our dataset class, we can make our datasets:\n",
        "train_dataset = Dataset(x_train, y_train, batch_size)\n",
        "eval_dataset = Dataset(x_test, y_test, batch_size)"
      ]
    },
    {
      "cell_type": "code",
      "execution_count": 968,
      "metadata": {
        "id": "VcCREIHVu-qj"
      },
      "outputs": [],
      "source": [
        "# Define a batch of data.\n",
        "class Batch(NamedTuple):\n",
        "  input: np.ndarray\n",
        "  output: np.ndarray\n",
        "\n",
        "# Define a training state, telling us what parameters we have and the state of the optimizer.\n",
        "class TrainingState(NamedTuple):\n",
        "  params: hk.Params\n",
        "  opt_state: optax.OptState"
      ]
    },
    {
      "cell_type": "code",
      "execution_count": 969,
      "metadata": {
        "id": "bxM-XnmipX7L"
      },
      "outputs": [],
      "source": [
        "# Define the neural network.\n",
        "def FeedForward(x):\n",
        "  mlp = hk.Sequential([\n",
        "      hk.Linear(10), jax.nn.relu,\n",
        "      hk.Linear(10), jax.nn.relu,\n",
        "      hk.Linear(1),\n",
        "  ])\n",
        "  return mlp(x)\n",
        "\n",
        "# Define our network and optimiser.\n",
        "network = hk.without_apply_rng(hk.transform(FeedForward))\n",
        "optimiser = optax.adam(1e-3)"
      ]
    },
    {
      "cell_type": "code",
      "execution_count": 970,
      "metadata": {
        "id": "quDdmHFK1ntz"
      },
      "outputs": [],
      "source": [
        "# Define our mean squared error loss.\n",
        "# The jits are hashed out because if it is jitted it does not print the actual data, it just prints the datatype, which does not help when debugging.\n",
        "@jit\n",
        "def dy_dx(y, x, weights):\n",
        "  return network.apply(weights, jnp.array([x]))\n",
        "\n",
        "@jit\n",
        "def MeanSquaredErrorLoss(weights, batch):\n",
        "  # Create the predictions of the y values.\n",
        "  # This adds our initial value, 0, for when we solve the ode.\n",
        "  xsteps = jnp.insert(batch[0], 0, y_centre).flatten()\n",
        "\n",
        "  preds = odeint(dy_dx, y_centre, xsteps, weights)\n",
        "\n",
        "  # This removes the fact that it is an array of arrays. Also, we do not need the initial value of 0.\n",
        "  preds = preds.squeeze()[1:]\n",
        "\n",
        "  # These are temporary, for debugging.\n",
        "  # print(\"WEIGHTS = \", weights)\n",
        "  # print(\"XSTEPS = \", xsteps)\n",
        "  # print(\"PREDS = \", preds)\n",
        "  #print(\"BATCH[1] = \", batch[1])\n",
        "  # print(\"OUTPUT = \", jnp.power(batch[1] - preds, 2).mean())\n",
        "  return jnp.power(batch[1] - preds, 2).mean()"
      ]
    },
    {
      "cell_type": "code",
      "execution_count": 971,
      "metadata": {
        "id": "20WExEur08Hb"
      },
      "outputs": [],
      "source": [
        "@jit\n",
        "def update(state: TrainingState, batch: Batch) -> TrainingState:\n",
        "  # This is how we define our stochastic gradient descent.\n",
        "\n",
        "  # Find grads of loss w.r.t parameters, on this batch of the data\n",
        "  #print(make_jaxpr(jax.grad(MeanSquaredErrorLoss))(state.params, batch))\n",
        "\n",
        "  grads = jax.grad(MeanSquaredErrorLoss)(state.params, batch)\n",
        "  print(\"GRADS = \", grads)\n",
        "\n",
        "  # Get the updates and the new optimser state from this.\n",
        "  updates, opt_state = optimiser.update(grads, state.opt_state)\n",
        "  # Apply the updates to the parameters.\n",
        "  params = optax.apply_updates(state.params, updates)\n",
        "\n",
        "  #return the training state with the new parameters and the optimiser.\n",
        "  return TrainingState(params, opt_state)\n"
      ]
    },
    {
      "cell_type": "code",
      "execution_count": 972,
      "metadata": {
        "id": "ZZT5qdV2xbPD",
        "colab": {
          "base_uri": "https://localhost:8080/"
        },
        "outputId": "145b6dcf-abe5-456d-f070-c63218d86c67"
      },
      "outputs": [
        {
          "output_type": "stream",
          "name": "stdout",
          "text": [
            "Weights Type : <class 'dict'>\n",
            "\n",
            "linear\n",
            "Weights : (1, 10), Biases : (10,)\n",
            "\n",
            "linear_1\n",
            "Weights : (10, 10), Biases : (10,)\n",
            "\n",
            "linear_2\n",
            "Weights : (10, 1), Biases : (1,)\n",
            "\n"
          ]
        }
      ],
      "source": [
        "#Initialising the parameters randomly.\n",
        "rng = jax.random.PRNGKey(12)\n",
        "initial_params = network.init(rng, x_train[:1])\n",
        "\n",
        "# Initialise the optimiser and the define the state.\n",
        "initial_opt_state = optimiser.init(initial_params)\n",
        "state = TrainingState(initial_params, initial_opt_state)\n",
        "\n",
        "# Print the structure of the network.\n",
        "print(\"Weights Type : {}\\n\".format(type(initial_params)))\n",
        "\n",
        "for layer_name, weights in initial_params.items():\n",
        "    print(layer_name)\n",
        "    print(\"Weights : {}, Biases : {}\\n\".format(initial_params[layer_name][\"w\"].shape,initial_params[layer_name][\"b\"].shape))"
      ]
    },
    {
      "cell_type": "code",
      "execution_count": 973,
      "metadata": {
        "id": "VH_ABnPT0NWn",
        "colab": {
          "base_uri": "https://localhost:8080/",
          "height": 1000
        },
        "outputId": "938c3afd-3eab-49a9-9da7-9b9f0d09a748"
      },
      "outputs": [
        {
          "output_type": "stream",
          "name": "stdout",
          "text": [
            "GRADS =  {'linear': {'b': Array([nan, nan, nan, nan, nan, nan, nan, nan, nan, nan], dtype=float64), 'w': Array([[nan, nan, nan, nan, nan, nan, nan, nan, nan, nan]], dtype=float64)}, 'linear_1': {'b': Array([nan, nan, nan, nan, nan, nan, nan, nan, nan, nan], dtype=float64), 'w': Array([[nan, nan, nan, nan, nan, nan, nan, nan, nan, nan],\n",
            "       [nan, nan, nan, nan, nan, nan, nan, nan, nan, nan],\n",
            "       [nan, nan, nan, nan, nan, nan, nan, nan, nan, nan],\n",
            "       [nan, nan, nan, nan, nan, nan, nan, nan, nan, nan],\n",
            "       [nan, nan, nan, nan, nan, nan, nan, nan, nan, nan],\n",
            "       [nan, nan, nan, nan, nan, nan, nan, nan, nan, nan],\n",
            "       [nan, nan, nan, nan, nan, nan, nan, nan, nan, nan],\n",
            "       [nan, nan, nan, nan, nan, nan, nan, nan, nan, nan],\n",
            "       [nan, nan, nan, nan, nan, nan, nan, nan, nan, nan],\n",
            "       [nan, nan, nan, nan, nan, nan, nan, nan, nan, nan]], dtype=float64)}, 'linear_2': {'b': Array([nan], dtype=float64), 'w': Array([[nan],\n",
            "       [nan],\n",
            "       [nan],\n",
            "       [nan],\n",
            "       [nan],\n",
            "       [nan],\n",
            "       [nan],\n",
            "       [nan],\n",
            "       [nan],\n",
            "       [nan]], dtype=float64)}}\n",
            "Step 0: train loss 0.9128684368610671, eval loss 1.0059117903475037\n",
            "GRADS =  {'linear': {'b': Array([nan, nan, nan, nan, nan, nan, nan, nan, nan, nan], dtype=float64), 'w': Array([[nan, nan, nan, nan, nan, nan, nan, nan, nan, nan]], dtype=float64)}, 'linear_1': {'b': Array([nan, nan, nan, nan, nan, nan, nan, nan, nan, nan], dtype=float64), 'w': Array([[nan, nan, nan, nan, nan, nan, nan, nan, nan, nan],\n",
            "       [nan, nan, nan, nan, nan, nan, nan, nan, nan, nan],\n",
            "       [nan, nan, nan, nan, nan, nan, nan, nan, nan, nan],\n",
            "       [nan, nan, nan, nan, nan, nan, nan, nan, nan, nan],\n",
            "       [nan, nan, nan, nan, nan, nan, nan, nan, nan, nan],\n",
            "       [nan, nan, nan, nan, nan, nan, nan, nan, nan, nan],\n",
            "       [nan, nan, nan, nan, nan, nan, nan, nan, nan, nan],\n",
            "       [nan, nan, nan, nan, nan, nan, nan, nan, nan, nan],\n",
            "       [nan, nan, nan, nan, nan, nan, nan, nan, nan, nan],\n",
            "       [nan, nan, nan, nan, nan, nan, nan, nan, nan, nan]], dtype=float64)}, 'linear_2': {'b': Array([nan], dtype=float64), 'w': Array([[nan],\n",
            "       [nan],\n",
            "       [nan],\n",
            "       [nan],\n",
            "       [nan],\n",
            "       [nan],\n",
            "       [nan],\n",
            "       [nan],\n",
            "       [nan],\n",
            "       [nan]], dtype=float64)}}\n"
          ]
        },
        {
          "output_type": "execute_result",
          "data": {
            "text/plain": [
              "[<matplotlib.lines.Line2D at 0x7f70f08e1780>]"
            ]
          },
          "metadata": {},
          "execution_count": 973
        },
        {
          "output_type": "display_data",
          "data": {
            "text/plain": [
              "<Figure size 640x480 with 1 Axes>"
            ],
            "image/png": "[encoded data removed]"
          },
          "metadata": {}
        }
      ],
      "source": [
        "# Training & evaluation loop.\n",
        "train_loss_list = []\n",
        "val_loss_list = []\n",
        "for step in range(gradient_updates):\n",
        "  # Do stochastic gradient descent on a batch of training examples.\n",
        "  state = update(state, next(train_dataset))\n",
        "\n",
        "  # This is temporary, for debugging.\n",
        "  if step == 1:\n",
        "    break\n",
        "  # Print the training and evaluation loss every 1000 time steps.\n",
        "  if step % 1000 == 0:\n",
        "    train_loss_list.append(MeanSquaredErrorLoss(state.params, next(train_dataset)))\n",
        "    val_loss_list.append(MeanSquaredErrorLoss(state.params, next(eval_dataset)))\n",
        "    print(\"Step {}: train loss {}, eval loss {}\".format(step, train_loss_list[-1], val_loss_list[-1]))\n",
        "\n",
        "plt.plot(train_loss_list, color=\"b\")\n",
        "plt.plot(val_loss_list, color=\"red\")"
      ]
    },
    {
      "cell_type": "code",
      "execution_count": 974,
      "metadata": {
        "id": "8Dbh7c46X5gt",
        "colab": {
          "base_uri": "https://localhost:8080/",
          "height": 447
        },
        "outputId": "ef9f1ca6-fe44-4720-b1d5-73a8e730eb4c"
      },
      "outputs": [
        {
          "output_type": "execute_result",
          "data": {
            "text/plain": [
              "<matplotlib.legend.Legend at 0x7f70f0afafb0>"
            ]
          },
          "metadata": {},
          "execution_count": 974
        },
        {
          "output_type": "display_data",
          "data": {
            "text/plain": [
              "<Figure size 640x480 with 1 Axes>"
            ],
            "image/png": "[encoded data removed]"
          },
          "metadata": {}
        }
      ],
      "source": [
        " # Graph our prediction against the actual curve and the testing data\n",
        "plt.scatter(x_truth, y_truth, s=0.1, color='green')\n",
        "fine_inputs = jnp.reshape(jnp.linspace(-2, 2, 10000), (10000, 1))\n",
        "plt.plot(fine_inputs, network.apply(state.params, fine_inputs), color='red', label=\"Predicted\")\n",
        "plt.legend()"
      ]
    },
    {
      "cell_type": "code",
      "source": [],
      "metadata": {
        "id": "0bTVTvWZSdHX"
      },
      "execution_count": 929,
      "outputs": []
    }
  ],
  "metadata": {
    "colab": {
      "provenance": [],
      "authorship_tag": "ABX9TyNj08Ayd9wB4aXK6Fv/KKSW",
      "include_colab_link": true
    },
    "kernelspec": {
      "display_name": "Python 3",
      "name": "python3"
    },
    "language_info": {
      "name": "python"
    }
  },
  "nbformat": 4,
  "nbformat_minor": 0
}