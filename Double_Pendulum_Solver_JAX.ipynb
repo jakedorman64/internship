{
  "nbformat": 4,
  "nbformat_minor": 0,
  "metadata": {
    "colab": {
      "provenance": [],
      "gpuType": "T4",
      "authorship_tag": "ABX9TyOqrvb+K8ytYYX9yCkx/FZ+",
      "include_colab_link": true
    },
    "kernelspec": {
      "name": "python3",
      "display_name": "Python 3"
    },
    "language_info": {
      "name": "python"
    }
  },
  "cells": [
    {
      "cell_type": "markdown",
      "metadata": {
        "id": "view-in-github",
        "colab_type": "text"
      },
      "source": [
        "<a href=\"https://colab.research.google.com/github/jakedorman64/internship/blob/main/Double_Pendulum_Solver_JAX.ipynb\" target=\"_parent\"><img src=\"https://colab.research.google.com/assets/colab-badge.svg\" alt=\"Open In Colab\"/></a>"
      ]
    },
    {
      "cell_type": "markdown",
      "source": [
        "#Double Pendulum Simulator\n",
        "\n",
        "Solving the Euler Lagrange equations for the double pendulum gives the second order differential equations:\n",
        "\n",
        "$$ \\begin{align} \\ddot{\\theta}_1 & = \\frac{g \\sin{\\theta_2} \\cos{(\\theta_1 - \\theta_2)} - \\sin{(\\theta_1 - \\theta_2)} \\left[ \\dot{\\theta}_1^2 \\cos{(\\theta_1 - \\theta_2)} + \\dot{\\theta}_2^2\\right] - 2 g \\sin{\\theta_1}}{1 + \\sin^2{(\\theta_1 - \\theta_2)}}\n",
        "\\\\\n",
        " \\ddot{\\theta}_2 & = \\frac{2 \\left[ \\dot{\\theta}_1^2 \\sin{(\\theta_1 - \\theta_2)} - g \\sin{\\theta_2} + g \\sin{\\theta_1} \\cos {(\\theta_1 - \\theta_2)} \\right] + \\dot{\\theta}_2^2 \\sin{(\\theta_1 - \\theta_2)} \\cos{(\\theta_1 - \\theta_2)}}{1 + \\sin^2{(\\theta_1 - \\theta_2)}} \\end{align} $$\n",
        "\n",
        "Note that we have set mass and length of both sections to be 1. We need a system of first order differential equations. Thus, we will define $ \\omega = \\dot{\\theta} $ for each section, thus giving us the system of equations:\n",
        "\n",
        "$$ \\begin{align} \\frac{d \\omega_1}{dt} & = \\frac{g \\sin{\\theta_2} \\cos{(\\theta_1 - \\theta_2)} - \\sin{(\\theta_1 - \\theta_2)} \\left[ \\omega_1^2 \\cos{(\\theta_1 - \\theta_2)} + \\omega_2^2\\right] - 2 g \\sin{\\theta_1}}{1 + \\sin^2{(\\theta_1 - \\theta_2)}}\n",
        "\\\\\n",
        " \\frac{d \\omega_2}{dt} & = \\frac{2 \\left[ \\omega_1^2 \\sin{(\\theta_1 - \\theta_2)} - g \\sin{\\theta_2} + g \\sin{\\theta_1} \\cos {(\\theta_1 - \\theta_2)} \\right] + \\omega_2^2 \\sin{(\\theta_1 - \\theta_2)} \\cos{(\\theta_1 - \\theta_2)}}{1 + \\sin^2{(\\theta_1 - \\theta_2)}} \\end{align} $$\n",
        " Plus the simpler equations:\n",
        " $$\\begin{align} \\frac{d \\theta_1}{dt} & = \\omega_1 \\\\ \\frac{d \\theta_2}{dt} & = \\omega_2. \\end{align} $$"
      ],
      "metadata": {
        "id": "uYyB_o-3Pi-q"
      }
    },
    {
      "cell_type": "code",
      "execution_count": 1,
      "metadata": {
        "id": "Q-s-fsTrPiQb",
        "colab": {
          "base_uri": "https://localhost:8080/"
        },
        "outputId": "37a07de6-699f-49bf-9051-ed48827f214c"
      },
      "outputs": [
        {
          "output_type": "stream",
          "name": "stderr",
          "text": [
            "WARNING:jax._src.xla_bridge:No GPU/TPU found, falling back to CPU. (Set TF_CPP_MIN_LOG_LEVEL=0 and rerun for more info.)\n"
          ]
        }
      ],
      "source": [
        "import jax.numpy as jnp\n",
        "from jax.numpy import pi, sin, cos\n",
        "from jax import value_and_grad, jit\n",
        "from jax import random\n",
        "from jax.experimental.ode import odeint\n",
        "import matplotlib.pyplot as plt\n",
        "import imageio\n",
        "import time\n",
        "from tqdm.auto import trange\n",
        "from matplotlib.patches import Circle\n",
        "\n",
        "perturb = False\n",
        "perturbation = 0.1\n",
        "\n",
        "# Generate random numbers for initialising angles\n",
        "key, subkey = random.split(random.PRNGKey(int(time.time())))\n",
        "\n",
        "# Define gravity\n",
        "g = - 9.81\n",
        "\n",
        "total_time = 20\n",
        "dt = 0.001\n",
        "dT = 0.01"
      ]
    },
    {
      "cell_type": "code",
      "source": [
        "# First make our initial conditions. We will set the angles to be random and the velocities to be 0.\n",
        "\n",
        "theta_1_init = random.uniform(key, minval = 0, maxval = 2 * pi)\n",
        "theta_2_init = random.uniform(subkey, minval = 0, maxval = 2 * pi)\n",
        "omega_1_init = 0\n",
        "omega_2_init = 0\n",
        "\n",
        "y0 = jnp.array([theta_1_init, theta_2_init, omega_1_init, omega_2_init])\n",
        "\n",
        "if perturb == True:\n",
        "  Theta_1_init = theta_1_init + perturbation\n",
        "  Theta_2_init = theta_2_init + perturbation\n",
        "  Omega_1_init = 0\n",
        "  Omega_2_init = 0\n",
        "\n",
        "  Y0 = jnp.array([Theta_1_init, Theta_2_init, Omega_1_init, Omega_2_init])\n",
        "# And generate our time array:\n",
        "\n",
        "tsteps = jnp.linspace(0, int(total_time), int(total_time / dt))"
      ],
      "metadata": {
        "id": "aL2s6aufdGtv"
      },
      "execution_count": 2,
      "outputs": []
    },
    {
      "cell_type": "markdown",
      "source": [
        "$$ \\begin{align} \\frac{d \\omega_1}{dt} & = \\frac{g \\sin{\\theta_2} \\cos{(\\theta_1 - \\theta_2)} - \\sin{(\\theta_1 - \\theta_2)} \\left[ \\omega_1^2 \\cos{(\\theta_1 - \\theta_2)} + \\omega_2^2\\right] - 2 g \\sin{\\theta_1}}{1 + \\sin^2{(\\theta_1 - \\theta_2)}}\n",
        "\\\\\n",
        " \\frac{d \\omega_2}{dt} & = \\frac{2 \\left[ \\omega_1^2 \\sin{(\\theta_1 - \\theta_2)} - g \\sin{\\theta_2} + g \\sin{\\theta_1} \\cos {(\\theta_1 - \\theta_2)} \\right] + \\omega_2^2 \\sin{(\\theta_1 - \\theta_2)} \\cos{(\\theta_1 - \\theta_2)}}{1 + \\sin^2{(\\theta_1 - \\theta_2)}} \\end{align} $$"
      ],
      "metadata": {
        "id": "LCAh_HcPmJ9w"
      }
    },
    {
      "cell_type": "code",
      "source": [
        "@jit\n",
        "def dy_dt(y, t, g):\n",
        "  # Create return array and unpack the values of y:\n",
        "\n",
        "  theta_1 = y[0] % (2 * pi)\n",
        "  theta_2 = y[1] % (2 * pi)\n",
        "  omega_1 = y[2]\n",
        "  omega_2 = y[3]\n",
        "\n",
        "  # Make the equations nicer by setting these:\n",
        "  s = sin(theta_1 - theta_2)\n",
        "  c = cos(theta_1 - theta_2)\n",
        "\n",
        "  # Derivative of the thetas are just the omegas:\n",
        "  dtheta1_dt = omega_1\n",
        "  dtheta2_dt = omega_2\n",
        "\n",
        "  # Derivative of the omegas:\n",
        "  domega1_dt = ( g * sin(theta_2) * c - s * ((omega_1 ** 2) * c + (omega_2 ** 2)) - 2 * g * sin(theta_1) ) / (1 + s ** 2)\n",
        "\n",
        "  domega2_dt = ( 2 * ( (omega_1 ** 2) * s - g * sin(theta_2) + g * sin(theta_1) * c ) + (omega_2 ** 2) * s * c ) / (1 + s ** 2)\n",
        "\n",
        "  dy_dt = jnp.array([dtheta1_dt, dtheta2_dt, domega1_dt, domega2_dt])\n",
        "  return dy_dt"
      ],
      "metadata": {
        "id": "qYRJCOSFe2KS"
      },
      "execution_count": 3,
      "outputs": []
    },
    {
      "cell_type": "code",
      "source": [
        "jax_results = odeint(dy_dt, y0, tsteps, g)\n",
        "\n",
        "if perturb == True:\n",
        "  Jax_results = odeint(dy_dt, Y0, tsteps, g)"
      ],
      "metadata": {
        "id": "ZoB9o03CmvqU"
      },
      "execution_count": 4,
      "outputs": []
    },
    {
      "cell_type": "code",
      "source": [
        "theta_1 = jax_results[:, 0]\n",
        "theta_2 = jax_results[:, 1]\n",
        "\n",
        "if perturb == True:\n",
        "  Theta_1 = Jax_results[:, 0]\n",
        "  Theta_2 = Jax_results[:, 1]"
      ],
      "metadata": {
        "id": "_I57T1K_7JT_"
      },
      "execution_count": 5,
      "outputs": []
    },
    {
      "cell_type": "code",
      "source": [
        "# Computes a plot of the angles.\n",
        "\n",
        "plt.plot(theta_1, c='b')\n",
        "plt.plot(theta_2, c='r')"
      ],
      "metadata": {
        "colab": {
          "base_uri": "https://localhost:8080/",
          "height": 447
        },
        "id": "wWSxPMNZZsCN",
        "outputId": "125c692b-36c6-4ab8-a9cd-1afc03b4de4a"
      },
      "execution_count": 6,
      "outputs": [
        {
          "output_type": "execute_result",
          "data": {
            "text/plain": [
              "[<matplotlib.lines.Line2D at 0x7f6b726f1120>]"
            ]
          },
          "metadata": {},
          "execution_count": 6
        },
        {
          "output_type": "display_data",
          "data": {
            "text/plain": [
              "<Figure size 640x480 with 1 Axes>"
            ],
            "image/png": "[encoded data removed]"
          },
          "metadata": {}
        }
      ]
    },
    {
      "cell_type": "markdown",
      "source": [
        "Code below will convert the data into a gif."
      ],
      "metadata": {
        "id": "MdfpoSvDceut"
      }
    },
    {
      "cell_type": "code",
      "source": [
        "# Convert to Cartesian coordinates of the two bob positions.\n",
        "x1 = sin(theta_1)\n",
        "y1 = cos(theta_1)\n",
        "x2 = x1 + sin(theta_2)\n",
        "y2 = y1 + cos(theta_2)\n",
        "\n",
        "if perturb == True:\n",
        "  X1 = sin(Theta_1)\n",
        "  Y1 = cos(Theta_1)\n",
        "  X2 = X1 + sin(Theta_2)\n",
        "  Y2 = Y1 + cos(Theta_2)\n",
        "\n",
        "# Plotted bob circle radius\n",
        "r = 0.05\n",
        "# Plot a trail of the m2 bob's position for the last trail_secs seconds.\n",
        "trail_secs = 1\n",
        "# This corresponds to max_trail time points.\n",
        "max_trail = int(trail_secs / dt)\n",
        "\n",
        "def make_plot(i):\n",
        "    # Plot and save an image of the double pendulum configuration for time\n",
        "    # point i.\n",
        "    # The pendulum rods.\n",
        "    ax.plot([0, x1[i], x2[i]], [0, y1[i], y2[i]], lw=2, c='k')\n",
        "    # Circles representing the anchor point of rod 1, and bobs 1 and 2.\n",
        "    c0 = Circle((0, 0), r/2, fc='k', zorder=10)\n",
        "    c1 = Circle((x1[i], y1[i]), r, fc='b', ec='b', zorder=10)\n",
        "    c2 = Circle((x2[i], y2[i]), r, fc='r', ec='r', zorder=10)\n",
        "    ax.add_patch(c0)\n",
        "    ax.add_patch(c1)\n",
        "    ax.add_patch(c2)\n",
        "\n",
        "    if perturb == True:\n",
        "      ax.plot([0, X1[i], X2[i]], [0, Y1[i], Y2[i]], lw=2, c='k')\n",
        "      c3 = Circle((X1[i], Y1[i]), r, fc='g', ec='g', zorder=10)\n",
        "      c4 = Circle((X2[i], Y2[i]), r, fc='y', ec='y', zorder=10)\n",
        "      ax.add_patch(c3)\n",
        "      ax.add_patch(c4)\n",
        "\n",
        "    # The trail will be divided into ns segments and plotted as a fading line.\n",
        "    ns = 20\n",
        "    s = max_trail // ns\n",
        "\n",
        "    for j in range(ns):\n",
        "        imin = i - (ns-j)*s\n",
        "        if imin < 0:\n",
        "            continue\n",
        "        imax = imin + s + 1\n",
        "        # The fading looks better if we square the fractional length along the\n",
        "        # trail.\n",
        "        alpha = (j/ns)**2\n",
        "        ax.plot(x2[imin:imax], y2[imin:imax], c='r', solid_capstyle='butt',\n",
        "                lw=2, alpha=alpha)\n",
        "\n",
        "        if perturb == True:\n",
        "          ax.plot(X2[imin:imax], Y2[imin:imax], c='y', solid_capstyle='butt',\n",
        "                  lw=2, alpha=alpha)\n",
        "\n",
        "    # Centre the image on the fixed anchor point, and ensure the axes are equal\n",
        "    ax.set_xlim(-2-r, 2+r)\n",
        "    ax.set_ylim(-2-r, 2+r)\n",
        "    ax.set_aspect('equal', adjustable='box')\n",
        "    plt.axis('off')\n",
        "    plt.savefig('img{:04d}.png'.format(i//di), dpi=72)\n",
        "    plt.plot()\n",
        "    plt.cla()\n",
        "\n",
        "\n",
        "# Make an image every di time points, corresponding to a frame rate of fps\n",
        "# frames per second.\n",
        "# Frame rate, s-1\n",
        "fps = 10\n",
        "di = int(1/fps/dt)\n",
        "fig = plt.figure(figsize=(8.3333, 6.25), dpi=72)\n",
        "ax = fig.add_subplot(111)\n",
        "\n",
        "for i in range(0, tsteps.size, di):\n",
        "    print(i // di, '/', tsteps.size // di)\n",
        "    make_plot(i)"
      ],
      "metadata": {
        "id": "Da-1HEW4ocKl",
        "colab": {
          "base_uri": "https://localhost:8080/",
          "height": 1000
        },
        "outputId": "414cc31f-f5f8-4984-b18f-3a34fb90e3cc"
      },
      "execution_count": 7,
      "outputs": [
        {
          "output_type": "stream",
          "name": "stdout",
          "text": [
            "0 / 200\n",
            "1 / 200\n",
            "2 / 200\n",
            "3 / 200\n",
            "4 / 200\n",
            "5 / 200\n",
            "6 / 200\n",
            "7 / 200\n",
            "8 / 200\n",
            "9 / 200\n",
            "10 / 200\n",
            "11 / 200\n",
            "12 / 200\n",
            "13 / 200\n",
            "14 / 200\n",
            "15 / 200\n",
            "16 / 200\n",
            "17 / 200\n",
            "18 / 200\n",
            "19 / 200\n",
            "20 / 200\n",
            "21 / 200\n",
            "22 / 200\n",
            "23 / 200\n",
            "24 / 200\n",
            "25 / 200\n",
            "26 / 200\n",
            "27 / 200\n",
            "28 / 200\n",
            "29 / 200\n",
            "30 / 200\n",
            "31 / 200\n",
            "32 / 200\n",
            "33 / 200\n",
            "34 / 200\n",
            "35 / 200\n",
            "36 / 200\n",
            "37 / 200\n",
            "38 / 200\n",
            "39 / 200\n",
            "40 / 200\n",
            "41 / 200\n",
            "42 / 200\n",
            "43 / 200\n",
            "44 / 200\n",
            "45 / 200\n",
            "46 / 200\n",
            "47 / 200\n",
            "48 / 200\n",
            "49 / 200\n",
            "50 / 200\n",
            "51 / 200\n",
            "52 / 200\n",
            "53 / 200\n",
            "54 / 200\n",
            "55 / 200\n",
            "56 / 200\n",
            "57 / 200\n",
            "58 / 200\n",
            "59 / 200\n",
            "60 / 200\n",
            "61 / 200\n",
            "62 / 200\n",
            "63 / 200\n",
            "64 / 200\n",
            "65 / 200\n",
            "66 / 200\n",
            "67 / 200\n",
            "68 / 200\n",
            "69 / 200\n",
            "70 / 200\n",
            "71 / 200\n",
            "72 / 200\n",
            "73 / 200\n",
            "74 / 200\n",
            "75 / 200\n",
            "76 / 200\n",
            "77 / 200\n",
            "78 / 200\n",
            "79 / 200\n",
            "80 / 200\n",
            "81 / 200\n",
            "82 / 200\n",
            "83 / 200\n",
            "84 / 200\n",
            "85 / 200\n",
            "86 / 200\n",
            "87 / 200\n",
            "88 / 200\n",
            "89 / 200\n",
            "90 / 200\n",
            "91 / 200\n",
            "92 / 200\n",
            "93 / 200\n",
            "94 / 200\n",
            "95 / 200\n",
            "96 / 200\n",
            "97 / 200\n",
            "98 / 200\n",
            "99 / 200\n",
            "100 / 200\n",
            "101 / 200\n",
            "102 / 200\n",
            "103 / 200\n",
            "104 / 200\n",
            "105 / 200\n",
            "106 / 200\n",
            "107 / 200\n",
            "108 / 200\n",
            "109 / 200\n",
            "110 / 200\n",
            "111 / 200\n",
            "112 / 200\n",
            "113 / 200\n",
            "114 / 200\n",
            "115 / 200\n",
            "116 / 200\n",
            "117 / 200\n",
            "118 / 200\n",
            "119 / 200\n",
            "120 / 200\n",
            "121 / 200\n",
            "122 / 200\n",
            "123 / 200\n",
            "124 / 200\n",
            "125 / 200\n",
            "126 / 200\n",
            "127 / 200\n",
            "128 / 200\n",
            "129 / 200\n",
            "130 / 200\n",
            "131 / 200\n",
            "132 / 200\n",
            "133 / 200\n",
            "134 / 200\n",
            "135 / 200\n",
            "136 / 200\n",
            "137 / 200\n",
            "138 / 200\n",
            "139 / 200\n",
            "140 / 200\n",
            "141 / 200\n",
            "142 / 200\n",
            "143 / 200\n",
            "144 / 200\n",
            "145 / 200\n",
            "146 / 200\n",
            "147 / 200\n",
            "148 / 200\n",
            "149 / 200\n",
            "150 / 200\n",
            "151 / 200\n",
            "152 / 200\n",
            "153 / 200\n",
            "154 / 200\n",
            "155 / 200\n",
            "156 / 200\n",
            "157 / 200\n",
            "158 / 200\n",
            "159 / 200\n",
            "160 / 200\n",
            "161 / 200\n",
            "162 / 200\n",
            "163 / 200\n",
            "164 / 200\n",
            "165 / 200\n",
            "166 / 200\n",
            "167 / 200\n",
            "168 / 200\n",
            "169 / 200\n",
            "170 / 200\n",
            "171 / 200\n",
            "172 / 200\n",
            "173 / 200\n",
            "174 / 200\n",
            "175 / 200\n",
            "176 / 200\n",
            "177 / 200\n",
            "178 / 200\n",
            "179 / 200\n",
            "180 / 200\n",
            "181 / 200\n",
            "182 / 200\n",
            "183 / 200\n",
            "184 / 200\n",
            "185 / 200\n",
            "186 / 200\n",
            "187 / 200\n",
            "188 / 200\n",
            "189 / 200\n",
            "190 / 200\n",
            "191 / 200\n",
            "192 / 200\n",
            "193 / 200\n",
            "194 / 200\n",
            "195 / 200\n",
            "196 / 200\n",
            "197 / 200\n",
            "198 / 200\n",
            "199 / 200\n"
          ]
        },
        {
          "output_type": "display_data",
          "data": {
            "text/plain": [
              "<Figure size 599.998x450 with 1 Axes>"
            ],
            "image/png": "[encoded data removed]"
          },
          "metadata": {}
        }
      ]
    },
    {
      "cell_type": "code",
      "source": [
        "frames = []\n",
        "for i in range(int(tsteps.size) // di):\n",
        "  image = imageio.v2.imread(f'img{i:04}.png')\n",
        "  frames.append(image)\n",
        "\n",
        "imageio\n",
        "imageio.mimsave('./example.gif', # output gif\n",
        "                frames,          # array of input frames\n",
        "                fps = 10)         # optional: frames per second \"\"\"\n",
        "\n"
      ],
      "metadata": {
        "id": "cp42dUo572Cc"
      },
      "execution_count": 8,
      "outputs": []
    },
    {
      "cell_type": "code",
      "source": [],
      "metadata": {
        "id": "Nk8eGwnPB-xw"
      },
      "execution_count": 8,
      "outputs": []
    }
  ]
}